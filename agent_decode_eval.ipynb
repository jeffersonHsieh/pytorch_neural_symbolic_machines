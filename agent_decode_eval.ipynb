{
 "cells": [
  {
   "cell_type": "code",
   "execution_count": 1,
   "id": "e3299c83-f884-4039-a60e-8c5b5bce4647",
   "metadata": {},
   "outputs": [
    {
     "name": "stderr",
     "output_type": "stream",
     "text": [
      "WARNING:root:You are using the old version of `pytorch_pretrained_bert`\n"
     ]
    }
   ],
   "source": [
    "from table.experiments import load_environments\n",
    "from pytorch_pretrained_bert import BertTokenizer\n",
    "tknzer = BertTokenizer.from_pretrained('bert-large-uncased')"
   ]
  },
  {
   "cell_type": "code",
   "execution_count": 2,
   "id": "ad585ee9-aab0-4865-a71b-45bf67a732f1",
   "metadata": {},
   "outputs": [],
   "source": [
    "from pathlib import Path\n",
    "base_dir = Path('/workspace/hsiehcc/pytorch_neural_symbolic_machines/')\n",
    "data_dir = base_dir/'data/wikitable/wtq_preprocess_0805_no_anonymize_ent'\n",
    "table_file = data_dir / 'tables.jsonl'\n",
    "test_file = data_dir / 'data_split_1' / 'dev_split.jsonl'"
   ]
  },
  {
   "cell_type": "code",
   "execution_count": 3,
   "id": "71a077a5-e014-4aac-9613-9658d1853179",
   "metadata": {
    "scrolled": true,
    "tags": []
   },
   "outputs": [
    {
     "name": "stdout",
     "output_type": "stream",
     "text": [
      "2831 examples in dataset.\n",
      "2108 tables.\n",
      "creating environment #0\n",
      "creating environment #100\n",
      "creating environment #200\n",
      "creating environment #300\n",
      "creating environment #400\n",
      "creating environment #500\n",
      "creating environment #600\n",
      "creating environment #700\n",
      "creating environment #800\n",
      "creating environment #900\n",
      "creating environment #1000\n",
      "creating environment #1100\n",
      "creating environment #1200\n",
      "creating environment #1300\n",
      "creating environment #1400\n",
      "creating environment #1500\n",
      "creating environment #1600\n",
      "creating environment #1700\n",
      "creating environment #1800\n",
      "creating environment #1900\n",
      "creating environment #2000\n",
      "creating environment #2100\n",
      "creating environment #2200\n",
      "creating environment #2300\n",
      "creating environment #2400\n",
      "creating environment #2500\n",
      "creating environment #2600\n",
      "creating environment #2700\n",
      "creating environment #2800\n",
      "2831 environments in total\n"
     ]
    }
   ],
   "source": [
    "test_envs = load_environments(\n",
    "    [test_file],\n",
    "    table_file=table_file,\n",
    "    table_representation_method='canonical',\n",
    "    bert_tokenizer=tknzer\n",
    ")"
   ]
  },
  {
   "cell_type": "code",
   "execution_count": 14,
   "id": "c5c4ef78-d12b-44af-addb-d44d7159393c",
   "metadata": {},
   "outputs": [],
   "source": [
    "for env in test_envs:\n",
    "    env.use_cache = False\n",
    "    env.punish_extra_work = False\n",
    "test_dics = {test_env.name:test_env for test_env in test_envs}"
   ]
  },
  {
   "cell_type": "code",
   "execution_count": 44,
   "id": "621f571e-96c4-47f6-a0a9-9e376a98e37b",
   "metadata": {},
   "outputs": [],
   "source": [
    "test=test_envs[0]"
   ]
  },
  {
   "cell_type": "code",
   "execution_count": 5,
   "id": "a2e7ad37-1b69-40bc-91b8-e5f2e4a2891d",
   "metadata": {},
   "outputs": [],
   "source": [
    "from nsm.parser_module.agent import PGAgent"
   ]
  },
  {
   "cell_type": "code",
   "execution_count": 7,
   "id": "31f848d8-91ab-4a6f-bb8a-d2782f23a2cf",
   "metadata": {
    "scrolled": true,
    "tags": []
   },
   "outputs": [
    {
     "name": "stderr",
     "output_type": "stream",
     "text": [
      "Loading table BERT model /workspace/hsiehcc/TaBERT/tabert_large_k3/model.bin\n",
      "100%|██████████| 1248501532/1248501532 [01:35<00:00, 13008919.65B/s]\n",
      "Table Bert Config\n",
      "{\n",
      "  \"base_model_name\": \"bert-large-uncased\",\n",
      "  \"column_delimiter\": \"[SEP]\",\n",
      "  \"context_first\": true,\n",
      "  \"column_representation\": \"mean_pool\",\n",
      "  \"max_cell_len\": 5,\n",
      "  \"max_sequence_len\": 512,\n",
      "  \"max_context_len\": 128,\n",
      "  \"do_lower_case\": true,\n",
      "  \"cell_input_template\": [\n",
      "    \"column\",\n",
      "    \"|\",\n",
      "    \"type\",\n",
      "    \"|\",\n",
      "    \"value\"\n",
      "  ],\n",
      "  \"masked_context_prob\": 0.15,\n",
      "  \"masked_column_prob\": 0.2,\n",
      "  \"max_predictions_per_seq\": 200,\n",
      "  \"context_sample_strategy\": \"concate_and_enumerate\",\n",
      "  \"table_mask_strategy\": \"column\",\n",
      "  \"vocab_size\": 30522,\n",
      "  \"hidden_size\": 1024,\n",
      "  \"num_hidden_layers\": 24,\n",
      "  \"num_attention_heads\": 16,\n",
      "  \"hidden_act\": \"gelu\",\n",
      "  \"intermediate_size\": 4096,\n",
      "  \"hidden_dropout_prob\": 0.1,\n",
      "  \"attention_probs_dropout_prob\": 0.1,\n",
      "  \"max_position_embeddings\": 512,\n",
      "  \"type_vocab_size\": 2,\n",
      "  \"initializer_range\": 0.02,\n",
      "  \"layer_norm_eps\": 1e-12,\n",
      "  \"num_vertical_attention_heads\": 8,\n",
      "  \"num_vertical_layers\": 3,\n",
      "  \"sample_row_num\": 3,\n",
      "  \"predict_cell_tokens\": true,\n",
      "  \"initialize_from\": null\n",
      "}\n"
     ]
    }
   ],
   "source": [
    "model_path=base_dir/'runs/demo_run/model.best.bin'\n",
    "agent = PGAgent.load(model_path, gpu_id=0).eval()"
   ]
  },
  {
   "cell_type": "code",
   "execution_count": 22,
   "id": "09f35db5-3538-47d0-92fd-d87e8a4cc19e",
   "metadata": {
    "scrolled": true,
    "tags": []
   },
   "outputs": [
    {
     "name": "stdout",
     "output_type": "stream",
     "text": [
      "0it [00:00, ?it/s]******************************\n",
      "[{'value': <bound method SimpleKGExecutor.argmax of <nsm.execution.worlds.wikitablequestions.WikiTableExecutor object at 0x7f89cf915a58>>, 'type': 'primitive_function', 'autocomplete': <bound method SimpleKGExecutor.autocomplete_argm of <nsm.execution.worlds.wikitablequestions.WikiTableExecutor object at 0x7f89cf915a58>>, 'return_type': 'entity_list', 'args': [{'types': ['entity_list']}, {'types': ['ordered_property']}]}]\n",
      "['all_rows']\n",
      "['all_rows']\n",
      "******************************\n",
      "******************************\n",
      "[{'value': <bound method SimpleKGExecutor.argmin of <nsm.execution.worlds.wikitablequestions.WikiTableExecutor object at 0x7f89cf915a58>>, 'type': 'primitive_function', 'autocomplete': <bound method SimpleKGExecutor.autocomplete_argm of <nsm.execution.worlds.wikitablequestions.WikiTableExecutor object at 0x7f89cf915a58>>, 'return_type': 'entity_list', 'args': [{'types': ['entity_list']}, {'types': ['ordered_property']}]}]\n",
      "['all_rows']\n",
      "['all_rows']\n",
      "******************************\n",
      "******************************\n",
      "[{'value': <bound method SimpleKGExecutor.argmax of <nsm.execution.worlds.wikitablequestions.WikiTableExecutor object at 0x7f89cf915a58>>, 'type': 'primitive_function', 'autocomplete': <bound method SimpleKGExecutor.autocomplete_argm of <nsm.execution.worlds.wikitablequestions.WikiTableExecutor object at 0x7f89cf915a58>>, 'return_type': 'entity_list', 'args': [{'types': ['entity_list']}, {'types': ['ordered_property']}]}, {'value': ['row_4', 'row_5', 'row_6', 'row_7', 'row_0', 'row_1', 'row_2', 'row_3', 'row_8'], 'type': 'entity_list', 'is_constant': True}]\n",
      "['v4', 'v5', 'v6']\n",
      "['v4', 'v5', 'v6']\n",
      "******************************\n",
      "******************************\n",
      "[{'value': <bound method SimpleKGExecutor.argmin of <nsm.execution.worlds.wikitablequestions.WikiTableExecutor object at 0x7f89cf915a58>>, 'type': 'primitive_function', 'autocomplete': <bound method SimpleKGExecutor.autocomplete_argm of <nsm.execution.worlds.wikitablequestions.WikiTableExecutor object at 0x7f89cf915a58>>, 'return_type': 'entity_list', 'args': [{'types': ['entity_list']}, {'types': ['ordered_property']}]}, {'value': ['row_4', 'row_5', 'row_6', 'row_7', 'row_0', 'row_1', 'row_2', 'row_3', 'row_8'], 'type': 'entity_list', 'is_constant': True}]\n",
      "['v4', 'v5', 'v6']\n",
      "['v4', 'v5', 'v6']\n",
      "******************************\n",
      "v8 {'value': ['row_8'], 'type': 'entity_list', 'is_constant': False}\n",
      "v8 {'value': ['2007-xx-xx', '2006-xx-xx', '2011-xx-xx', '2009-xx-xx', '2008-xx-xx', '2010-xx-xx', '2004-xx-xx', '2005-xx-xx', '2003-xx-xx'], 'type': 'datetime_list', 'is_constant': False}\n",
      "v8 {'value': [2003.0, 2004.0, 2005.0, 2006.0, 2007.0, 2008.0, 2009.0, 2010.0, 2011.0], 'type': 'num_list', 'is_constant': False}\n",
      "v8 {'value': ['2004', '2005', '2007', '2011', '2010', '2008', '2006', '2009', '2003'], 'type': 'string_list', 'is_constant': False}\n",
      "v8 {'value': ['row_4', 'row_5', 'row_6', 'row_7', 'row_0', 'row_1', 'row_2', 'row_3', 'row_8'], 'type': 'entity_list', 'is_constant': False}\n",
      "v8 {'value': ['row_4', 'row_5', 'row_6', 'row_7', 'row_0', 'row_1', 'row_2', 'row_3', 'row_8'], 'type': 'entity_list', 'is_constant': False}\n",
      "v8 {'value': [1.0], 'type': 'num_list', 'is_constant': False}\n",
      "v8 {'value': ['row_0'], 'type': 'entity_list', 'is_constant': False}\n",
      "v8 {'value': ['row_6'], 'type': 'entity_list', 'is_constant': False}\n",
      "v8 {'value': ['row_4', 'row_5', 'row_7', 'row_0', 'row_1', 'row_2', 'row_3', 'row_8'], 'type': 'entity_list', 'is_constant': False}\n",
      "v9 {'value': ['row_3', 'row_4', 'row_5', 'row_6', 'row_0', 'row_1', 'row_2', 'row_7'], 'type': 'entity_list', 'is_constant': False}\n",
      "v9 {'value': ['row_5'], 'type': 'entity_list', 'is_constant': False}\n",
      "v9 {'value': ['row_7'], 'type': 'entity_list', 'is_constant': False}\n",
      "v9 {'value': ['crettyard'], 'type': 'string_list', 'is_constant': False}\n",
      "v9 {'value': ['row_8'], 'type': 'entity_list', 'is_constant': False}\n",
      "v9 {'value': ['row_4', 'row_5', 'row_6', 'row_7', 'row_0', 'row_1', 'row_2', 'row_3', 'row_8'], 'type': 'entity_list', 'is_constant': False}\n",
      "v9 {'value': ['row_6'], 'type': 'entity_list', 'is_constant': False}\n",
      "v9 {'value': ['row_8'], 'type': 'entity_list', 'is_constant': False}\n",
      "v9 {'value': ['row_6'], 'type': 'entity_list', 'is_constant': False}\n",
      "v9 {'value': ['row_4', 'row_5', 'row_7', 'row_0', 'row_1', 'row_2', 'row_3', 'row_8'], 'type': 'entity_list', 'is_constant': False}\n",
      "v10 {'value': ['fingal ravens', 'confey', 'ballyroan abbey', 'ballymore eustace', 'crettyard', 'greystones', 'maynooth', 'wolfe tones'], 'type': 'string_list', 'is_constant': False}\n",
      "v10 {'value': ['confey'], 'type': 'string_list', 'is_constant': False}\n",
      "v10 {'value': ['wolfe tones'], 'type': 'string_list', 'is_constant': False}\n",
      "v10 {'value': ['row_5'], 'type': 'entity_list', 'is_constant': False}\n",
      "v10 {'value': ['row_5'], 'type': 'entity_list', 'is_constant': False}\n",
      "v10 {'value': ['dundalk gaels'], 'type': 'string_list', 'is_constant': False}\n",
      "v10 {'value': ['fingal ravens', 'confey', 'ballymore eustace', 'maynooth', 'ballyroan abbey', 'crettyard', 'greystones', 'dundalk gaels', 'wolfe tones'], 'type': 'string_list', 'is_constant': False}\n",
      "v10 {'value': ['dundalk gaels'], 'type': 'string_list', 'is_constant': False}\n",
      "v10 {'value': ['fingal ravens', 'confey', 'ballymore eustace', 'ballyroan abbey', 'greystones', 'maynooth', 'dundalk gaels', 'wolfe tones'], 'type': 'string_list', 'is_constant': False}\n",
      "v11 {'value': ['fingal ravens', 'confey', 'ballymore eustace', 'ballyroan abbey', 'greystones', 'maynooth', 'dundalk gaels', 'wolfe tones'], 'type': 'string_list', 'is_constant': False}\n",
      "v11 {'value': ['louth', 'dublin', 'wicklow', 'kildare', 'meath', 'laois'], 'type': 'string_list', 'is_constant': False}\n",
      "1it [00:00,  4.38it/s]\n"
     ]
    }
   ],
   "source": [
    "decode_results = agent.decode_examples([test], beam_size=10)"
   ]
  },
  {
   "cell_type": "code",
   "execution_count": 19,
   "id": "9991416e-8f63-403f-b09e-4cc063f4333a",
   "metadata": {},
   "outputs": [],
   "source": [
    "from nsm.evaluator import Evaluation"
   ]
  },
  {
   "cell_type": "code",
   "execution_count": 23,
   "id": "831a6b79-0472-4523-81b9-9409c3e9ffe8",
   "metadata": {},
   "outputs": [
    {
     "data": {
      "text/plain": [
       "{'accuracy': 0.0, 'oracle_accuracy': 1.0}"
      ]
     },
     "execution_count": 23,
     "metadata": {},
     "output_type": "execute_result"
    }
   ],
   "source": [
    "Evaluation.evaluate_decode_results([test],decode_results)"
   ]
  },
  {
   "cell_type": "code",
   "execution_count": 65,
   "id": "3b86596c-979e-4d04-997a-dc687144e97a",
   "metadata": {},
   "outputs": [],
   "source": [
    "sample = decode_results[0][0]"
   ]
  },
  {
   "cell_type": "code",
   "execution_count": 62,
   "id": "21db64c3-a490-45f7-bc0c-f5ac8dd41d71",
   "metadata": {},
   "outputs": [],
   "source": [
    "env = test.clone()"
   ]
  },
  {
   "cell_type": "code",
   "execution_count": 63,
   "id": "15ae4c4c-3356-4d9d-8627-fbf2465f0bf6",
   "metadata": {},
   "outputs": [
    {
     "name": "stdout",
     "output_type": "stream",
     "text": [
      "v8 {'value': ['row_6'], 'type': 'entity_list', 'is_constant': False}\n",
      "v9 {'value': ['row_5'], 'type': 'entity_list', 'is_constant': False}\n",
      "v10 {'value': ['confey'], 'type': 'string_list', 'is_constant': False}\n"
     ]
    }
   ],
   "source": [
    "res = []\n",
    "for tok in sample.trajectory.program:\n",
    "    res.append(env.interpreter.read_token(tok))"
   ]
  },
  {
   "cell_type": "code",
   "execution_count": 64,
   "id": "3c5f715f-acd1-4ca2-81c6-53e9e0723f71",
   "metadata": {},
   "outputs": [
    {
     "data": {
      "text/plain": [
       "['confey']"
      ]
     },
     "execution_count": 64,
     "metadata": {},
     "output_type": "execute_result"
    }
   ],
   "source": [
    "env.interpreter.result"
   ]
  },
  {
   "cell_type": "code",
   "execution_count": 67,
   "id": "d6ccd3be-e501-428d-99c9-f958e6162140",
   "metadata": {},
   "outputs": [
    {
     "data": {
      "text/plain": [
       "['confey']"
      ]
     },
     "execution_count": 67,
     "metadata": {},
     "output_type": "execute_result"
    }
   ],
   "source": [
    "sample.trajectory.answer"
   ]
  },
  {
   "cell_type": "code",
   "execution_count": 68,
   "id": "42635090-1355-45d9-84a1-0f0f7defa669",
   "metadata": {},
   "outputs": [],
   "source": [
    "#TODO load environment step by step to modify table\n",
    "#less important: copy code to script and pdb to investigate decoding workflow"
   ]
  },
  {
   "cell_type": "code",
   "execution_count": null,
   "id": "68223688-c976-4696-9312-aeb7f5577c70",
   "metadata": {},
   "outputs": [],
   "source": []
  }
 ],
 "metadata": {
  "kernelspec": {
   "display_name": "tabert-cuda101",
   "language": "python",
   "name": "tabert-cuda101"
  },
  "language_info": {
   "codemirror_mode": {
    "name": "ipython",
    "version": 3
   },
   "file_extension": ".py",
   "mimetype": "text/x-python",
   "name": "python",
   "nbconvert_exporter": "python",
   "pygments_lexer": "ipython3",
   "version": "3.6.13"
  }
 },
 "nbformat": 4,
 "nbformat_minor": 5
}
