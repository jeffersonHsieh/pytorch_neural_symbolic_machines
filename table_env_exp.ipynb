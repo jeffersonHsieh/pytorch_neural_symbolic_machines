{
 "cells": [
  {
   "cell_type": "code",
   "execution_count": 2,
   "id": "de773c1d-4d84-426f-9633-ae4c613a047e",
   "metadata": {},
   "outputs": [],
   "source": [
    "import nsm.execution.worlds.wikisql\n",
    "import nsm.execution.worlds.wikitablequestions"
   ]
  },
  {
   "cell_type": "code",
   "execution_count": 3,
   "id": "ecf8872b-446f-43bb-adc8-353dca3b2ec2",
   "metadata": {},
   "outputs": [],
   "source": [
    "from nsm.env_factory import QAProgrammingEnv\n",
    "from nsm.computer_factory import LispInterpreter\n",
    "import nsm.execution.executor_factory as executor_factory\n",
    "from nsm.execution.worlds.wikitablequestions import WikiTableExecutor"
   ]
  },
  {
   "cell_type": "code",
   "execution_count": 4,
   "id": "61f35e18-9e1f-4a65-8ef4-52c56636b631",
   "metadata": {},
   "outputs": [
    {
     "name": "stdout",
     "output_type": "stream",
     "text": [
      "hello\n"
     ]
    }
   ],
   "source": [
    "print('hello')"
   ]
  },
  {
   "cell_type": "code",
   "execution_count": 5,
   "id": "9649da14-f65c-49a7-a6ac-c6d7bf26492f",
   "metadata": {},
   "outputs": [
    {
     "name": "stderr",
     "output_type": "stream",
     "text": [
      "WARNING:root:You are using the old version of `pytorch_pretrained_bert`\n"
     ]
    }
   ],
   "source": [
    "from table.experiments import load_environments"
   ]
  },
  {
   "cell_type": "code",
   "execution_count": 6,
   "id": "ecaa0d41-258c-41c0-9c09-1ae024d49c78",
   "metadata": {},
   "outputs": [],
   "source": [
    "from pathlib import Path"
   ]
  },
  {
   "cell_type": "code",
   "execution_count": 7,
   "id": "42b8910c-bc08-4e39-8578-e7745f6be468",
   "metadata": {},
   "outputs": [],
   "source": [
    "base_dir = Path('/workspace/hsiehcc/pytorch_neural_symbolic_machines/')\n",
    "data_dir = base_dir/'data/wikitable/wtq_preprocess_0805_no_anonymize_ent'\n",
    "table_file = data_dir / 'tables.jsonl'\n",
    "test_file = data_dir / 'data_split_1' / 'dev_split.jsonl'"
   ]
  },
  {
   "cell_type": "code",
   "execution_count": 8,
   "id": "390e3ef8-c2c3-4cdd-87f7-24730a6e60fa",
   "metadata": {},
   "outputs": [],
   "source": [
    "from pytorch_pretrained_bert import BertTokenizer"
   ]
  },
  {
   "cell_type": "code",
   "execution_count": 9,
   "id": "e9018e98-2b01-49d6-87ec-2865d29dc2b7",
   "metadata": {},
   "outputs": [],
   "source": [
    "tknzer = BertTokenizer.from_pretrained('bert-large-uncased')"
   ]
  },
  {
   "cell_type": "code",
   "execution_count": 10,
   "id": "76099deb-68c4-448c-a54a-46d702603744",
   "metadata": {
    "scrolled": true,
    "tags": []
   },
   "outputs": [
    {
     "name": "stdout",
     "output_type": "stream",
     "text": [
      "2831 examples in dataset.\n",
      "2108 tables.\n",
      "creating environment #0\n",
      "creating environment #100\n",
      "creating environment #200\n",
      "creating environment #300\n",
      "creating environment #400\n",
      "creating environment #500\n",
      "creating environment #600\n",
      "creating environment #700\n",
      "creating environment #800\n",
      "creating environment #900\n",
      "creating environment #1000\n",
      "creating environment #1100\n",
      "creating environment #1200\n",
      "creating environment #1300\n",
      "creating environment #1400\n",
      "creating environment #1500\n",
      "creating environment #1600\n",
      "creating environment #1700\n",
      "creating environment #1800\n",
      "creating environment #1900\n",
      "creating environment #2000\n",
      "creating environment #2100\n",
      "creating environment #2200\n",
      "creating environment #2300\n",
      "creating environment #2400\n",
      "creating environment #2500\n",
      "creating environment #2600\n",
      "creating environment #2700\n",
      "creating environment #2800\n",
      "2831 environments in total\n"
     ]
    }
   ],
   "source": [
    "test_envs = load_environments(\n",
    "    [test_file],\n",
    "    table_file=table_file,\n",
    "    table_representation_method='canonical',\n",
    "    bert_tokenizer=tknzer\n",
    ")"
   ]
  },
  {
   "cell_type": "code",
   "execution_count": 11,
   "id": "4fedab4a-c5e0-4f5b-9e7a-073ce11a1cfb",
   "metadata": {},
   "outputs": [
    {
     "data": {
      "text/plain": [
       "2831"
      ]
     },
     "execution_count": 11,
     "metadata": {},
     "output_type": "execute_result"
    }
   ],
   "source": [
    "len(test_envs)"
   ]
  },
  {
   "cell_type": "code",
   "execution_count": 12,
   "id": "e3c81207-5252-413b-ba75-5be271da2274",
   "metadata": {
    "scrolled": true,
    "tags": []
   },
   "outputs": [
    {
     "name": "stdout",
     "output_type": "stream",
     "text": [
      "Help on QAProgrammingEnv in module nsm.env_factory object:\n",
      "\n",
      "class QAProgrammingEnv(Environment)\n",
      " |  An RL environment wrapper around an interpreter to\n",
      " |  learn to write programs based on question.\n",
      " |  \n",
      " |  Method resolution order:\n",
      " |      QAProgrammingEnv\n",
      " |      Environment\n",
      " |      builtins.object\n",
      " |  \n",
      " |  Methods defined here:\n",
      " |  \n",
      " |  __init__(self, question_annotation, kg, answer, score_fn, interpreter, de_vocab=None, constants=None, punish_extra_work=True, init_interp=True, trigger_words_dict=None, max_cache_size=10000.0, context=None, id_feature_dict=None, cache=None, reset=True, name='qa_programming')\n",
      " |      Initialize self.  See help(type(self)) for accurate signature.\n",
      " |  \n",
      " |  clone(self)\n",
      " |  \n",
      " |  get_context(self)\n",
      " |  \n",
      " |  get_human_readable_action_token(self, program_token:str) -> str\n",
      " |  \n",
      " |  interactive(self, assisted=False)\n",
      " |  \n",
      " |  reset(self)\n",
      " |  \n",
      " |  show(self)\n",
      " |  \n",
      " |  step(self, action, debug=False)\n",
      " |      Args:\n",
      " |        action: an action to execute against the environment.\n",
      " |      \n",
      " |      Returns:\n",
      " |        observation:\n",
      " |        reward:\n",
      " |        done:\n",
      " |        info:\n",
      " |  \n",
      " |  to_human_readable_program(self)\n",
      " |  \n",
      " |  ----------------------------------------------------------------------\n",
      " |  Data descriptors inherited from Environment:\n",
      " |  \n",
      " |  __dict__\n",
      " |      dictionary for instance variables (if defined)\n",
      " |  \n",
      " |  __weakref__\n",
      " |      list of weak references to the object (if defined)\n",
      "\n"
     ]
    }
   ],
   "source": [
    "help(test_envs[0])"
   ]
  },
  {
   "cell_type": "code",
   "execution_count": 13,
   "id": "173a28ee-70d7-4a0d-8b61-d5ab98f9a8b3",
   "metadata": {
    "scrolled": true,
    "tags": []
   },
   "outputs": [
    {
     "data": {
      "text/plain": [
       "Table t_203_515 [city, rank, ranking, passengers, airline | 9 rows]"
      ]
     },
     "execution_count": 13,
     "metadata": {},
     "output_type": "execute_result"
    }
   ],
   "source": [
    "test_envs[1].get_context()['table']"
   ]
  },
  {
   "cell_type": "code",
   "execution_count": 14,
   "id": "564b86d0-645b-417e-9c99-1c1fc0ac9bad",
   "metadata": {},
   "outputs": [],
   "source": [
    "test_envs[0].name\n",
    "test_dics = {test_env.name:test_env for test_env in test_envs}"
   ]
  },
  {
   "cell_type": "code",
   "execution_count": 15,
   "id": "5e098488-abe5-48f6-aaf0-e8ea7bae2e04",
   "metadata": {
    "scrolled": true,
    "tags": []
   },
   "outputs": [
    {
     "data": {
      "text/plain": [
       "{'kg': {'row_49': {'r.days_held-string': ['31'],\n",
       "   'r.notes-string': [''],\n",
       "   'r.date-date': ['2000-03-12'],\n",
       "   'r.reign-number': [2.0],\n",
       "   'r.days_held-number': [31.0],\n",
       "   'r.location-string': ['danbury, ct'],\n",
       "   'r.null-number': [48.0],\n",
       "   'r.reign-string': ['2'],\n",
       "   'r.wrestlers-string': ['impact players\\\\n(justin credible and lance storm (3))'],\n",
       "   'r.null-string': ['48'],\n",
       "   'r.event-string': ['living dangerously'],\n",
       "   'r.date-number': [122000.0],\n",
       "   'r.date-string': ['march 12, 2000']},\n",
       "  'row_30': {'r.days_held-string': ['95'],\n",
       "   'r.notes-string': ['the dudley boyz won the championship via forfeit as a result of mustapha saed leaving the promotion before hardcore heaven took place'],\n",
       "   'r.date-date': ['1997-08-17'],\n",
       "   'r.reign-number': [3.0],\n",
       "   'r.event-number': [1997.0],\n",
       "   'r.days_held-number': [95.0],\n",
       "   'r.location-string': ['fort lauderdale, fl'],\n",
       "   'r.null-number': [29.0],\n",
       "   'r.reign-string': ['3'],\n",
       "   'r.wrestlers-string': ['the dudley boyz'],\n",
       "   'r.null-string': ['29'],\n",
       "   'r.event-string': ['hardcore heaven'],\n",
       "   'r.date-number': [171997.0],\n",
       "   'r.date-string': ['august 17, 1997']},\n",
       "  'row_29': {'r.days_held-string': ['29'],\n",
       "   'r.notes-num2': [24.0],\n",
       "   'r.notes-string': ['aired 7-24-97 on tv'],\n",
       "   'r.date-date': ['1997-07-19'],\n",
       "   'r.reign-number': [2.0],\n",
       "   'r.event-number': [1997.0],\n",
       "   'r.days_held-number': [29.0],\n",
       "   'r.location-string': ['philadelphia, pa'],\n",
       "   'r.null-number': [28.0],\n",
       "   'r.reign-string': ['2'],\n",
       "   'r.wrestlers-string': ['the gangstas'],\n",
       "   'r.null-string': ['28'],\n",
       "   'r.event-string': ['heat wave 1997/hardcore tv #222'],\n",
       "   'r.date-number': [191997.0],\n",
       "   'r.notes-number': [7.0],\n",
       "   'r.date-string': ['july 19, 1997']},\n",
       "  'row_28': {'r.days_held-string': ['29'],\n",
       "   'r.notes-string': ['the dudley boyz defeated kronus in a handicap match as a result of a sidelining injury sustained by saturn. aired 6-26-97 on tv'],\n",
       "   'r.date-date': ['1997-06-20'],\n",
       "   'r.reign-number': [2.0],\n",
       "   'r.event-number': [218.0],\n",
       "   'r.days_held-number': [29.0],\n",
       "   'r.location-string': ['waltham, ma'],\n",
       "   'r.null-number': [27.0],\n",
       "   'r.reign-string': ['2'],\n",
       "   'r.wrestlers-string': ['the dudley boyz'],\n",
       "   'r.null-string': ['27'],\n",
       "   'r.event-string': ['hardcore tv #218'],\n",
       "   'r.date-number': [201997.0],\n",
       "   'r.date-string': ['june 20, 1997']},\n",
       "  'row_27': {'r.days_held-string': ['68'],\n",
       "   'r.notes-string': [''],\n",
       "   'r.date-date': ['1997-04-13'],\n",
       "   'r.reign-number': [3.0],\n",
       "   'r.days_held-number': [68.0],\n",
       "   'r.location-string': ['philadelphia, pa'],\n",
       "   'r.null-number': [26.0],\n",
       "   'r.reign-string': ['3'],\n",
       "   'r.wrestlers-string': ['the eliminators'],\n",
       "   'r.null-string': ['26'],\n",
       "   'r.event-string': ['barely legal'],\n",
       "   'r.date-number': [131997.0],\n",
       "   'r.date-string': ['april 13, 1997']},\n",
       "  'row_26': {'r.days_held-string': ['29'],\n",
       "   'r.notes-num2': [20.0],\n",
       "   'r.notes-string': ['aired 3/20/97 on hardcore tv'],\n",
       "   'r.date-date': ['1997-03-15'],\n",
       "   'r.reign-number': [1.0],\n",
       "   'r.days_held-number': [29.0],\n",
       "   'r.location-string': ['philadelphia, pa'],\n",
       "   'r.null-number': [25.0],\n",
       "   'r.reign-string': ['1'],\n",
       "   'r.wrestlers-string': ['the dudley boyz\\\\n(buh buh ray dudley and d-von dudley)'],\n",
       "   'r.null-string': ['25'],\n",
       "   'r.event-string': ['hostile city showdown'],\n",
       "   'r.date-number': [151997.0],\n",
       "   'r.notes-number': [3.0],\n",
       "   'r.date-string': ['march 15, 1997']},\n",
       "  'row_25': {'r.days_held-string': ['85'],\n",
       "   'r.notes-num2': [31.0],\n",
       "   'r.notes-string': ['aired on 12/31/96 on hardcore tv'],\n",
       "   'r.date-date': ['1996-12-20'],\n",
       "   'r.reign-number': [2.0],\n",
       "   'r.event-number': [193.0],\n",
       "   'r.days_held-number': [85.0],\n",
       "   'r.location-string': ['middletown, ny'],\n",
       "   'r.null-number': [24.0],\n",
       "   'r.reign-string': ['2'],\n",
       "   'r.wrestlers-string': ['the eliminators'],\n",
       "   'r.null-string': ['24'],\n",
       "   'r.event-string': ['hardcore tv #193'],\n",
       "   'r.date-number': [201996.0],\n",
       "   'r.notes-number': [12.0],\n",
       "   'r.date-string': ['december 20, 1996']},\n",
       "  'row_24': {'r.days_held-string': ['139'],\n",
       "   'r.notes-string': [''],\n",
       "   'r.date-date': ['1996-08-03'],\n",
       "   'r.reign-number': [1.0],\n",
       "   'r.days_held-number': [139.0],\n",
       "   'r.location-string': ['philadelphia, pa'],\n",
       "   'r.null-number': [23.0],\n",
       "   'r.reign-string': ['1'],\n",
       "   'r.wrestlers-string': ['the gangstas\\\\n(mustapha saed and new jack)'],\n",
       "   'r.null-string': ['23'],\n",
       "   'r.event-string': ['doctor is in'],\n",
       "   'r.date-number': [31996.0],\n",
       "   'r.date-string': ['august 3, 1996']},\n",
       "  'row_23': {'r.days_held-string': ['182'],\n",
       "   'r.notes-string': [''],\n",
       "   'r.date-date': ['1996-02-03'],\n",
       "   'r.reign-number': [1.0],\n",
       "   'r.days_held-number': [182.0],\n",
       "   'r.location-string': ['new york, ny'],\n",
       "   'r.null-number': [22.0],\n",
       "   'r.reign-string': ['1'],\n",
       "   'r.wrestlers-string': ['the eliminators\\\\n(kronus and saturn)'],\n",
       "   'r.null-string': ['22'],\n",
       "   'r.event-string': ['big apple blizzard blast'],\n",
       "   'r.date-number': [31996.0],\n",
       "   'r.date-string': ['february 3, 1996']},\n",
       "  'row_22': {'r.days_held-string': ['36'],\n",
       "   'r.notes-string': [\"whipwreck defeated 2 cold scorpio in a singles match to win both the tag team titles and the ecw world television championship; cactus jack came out and declared himself to be mikey's partner after he won the match\"],\n",
       "   'r.date-date': ['1995-12-29'],\n",
       "   'r.reign-number': [2.0],\n",
       "   'r.event-number': [1995.0],\n",
       "   'r.days_held-number': [36.0],\n",
       "   'r.location-string': ['new york, ny'],\n",
       "   'r.null-number': [21.0],\n",
       "   'r.reign-string': ['2'],\n",
       "   'r.wrestlers-string': ['cactus jack and mikey whipwreck'],\n",
       "   'r.null-string': ['21'],\n",
       "   'r.event-string': ['holiday hell 1995'],\n",
       "   'r.date-number': [291995.0],\n",
       "   'r.date-string': ['december 29, 1995']},\n",
       "  'row_21': {'r.date-number': [281995.0],\n",
       "   'r.notes-string': ['scorpio defeats rocco rock in a singles bout and wins the tag team title, choosing sandman as his partner. aired 11-7-95 on tv'],\n",
       "   'r.date-date': ['1995-10-28'],\n",
       "   'r.reign-string': ['1'],\n",
       "   'r.event-number': [133.0],\n",
       "   'r.days_held-number': [62.0],\n",
       "   'r.location-string': ['philadelphia, pa'],\n",
       "   'r.null-number': [20.0],\n",
       "   'r.reign-number': [1.0],\n",
       "   'r.wrestlers-string': ['2 cold scorpio and the sandman'],\n",
       "   'r.null-string': ['20'],\n",
       "   'r.event-string': ['hardcore tv #133'],\n",
       "   'r.date-string': ['october 28, 1995'],\n",
       "   'r.days_held-string': ['62']},\n",
       "  'row_20': {'r.days_held-string': ['21'],\n",
       "   'r.notes-num2': [24.0],\n",
       "   'r.notes-string': ['aired 10-24-95 on tv'],\n",
       "   'r.date-date': ['1995-10-07'],\n",
       "   'r.reign-number': [4.0],\n",
       "   'r.event-number': [131.0],\n",
       "   'r.days_held-number': [21.0],\n",
       "   'r.location-string': ['philadelphia, pa'],\n",
       "   'r.null-number': [19.0],\n",
       "   'r.reign-string': ['4'],\n",
       "   'r.wrestlers-string': ['the public enemy'],\n",
       "   'r.null-string': ['19'],\n",
       "   'r.event-string': ['hardcore tv #131'],\n",
       "   'r.date-number': [71995.0],\n",
       "   'r.notes-number': [10.0],\n",
       "   'r.date-string': ['october 7, 1995']},\n",
       "  'row_45': {'r.days_held-string': ['136'],\n",
       "   'r.notes-num2': [3.0],\n",
       "   'r.notes-string': ['aired 9-3-99 on tv'],\n",
       "   'r.date-date': ['1999-08-26'],\n",
       "   'r.reign-number': [1.0],\n",
       "   'r.event-number': [2.0],\n",
       "   'r.days_held-number': [136.0],\n",
       "   'r.location-string': ['new york, ny'],\n",
       "   'r.null-number': [44.0],\n",
       "   'r.reign-string': ['1'],\n",
       "   'r.wrestlers-string': ['tommy dreamer (2) and raven'],\n",
       "   'r.null-string': ['44'],\n",
       "   'r.event-string': ['ecw on tnn#2'],\n",
       "   'r.date-number': [261999.0],\n",
       "   'r.notes-number': [9.0],\n",
       "   'r.date-string': ['august 26, 1999']},\n",
       "  'row_33': {'r.days_held-string': ['1'],\n",
       "   'r.notes-string': [''],\n",
       "   'r.date-date': ['1997-12-05'],\n",
       "   'r.reign-number': [1.0],\n",
       "   'r.days_held-number': [1.0],\n",
       "   'r.location-string': ['waltham, ma'],\n",
       "   'r.null-number': [32.0],\n",
       "   'r.reign-string': ['1'],\n",
       "   'r.wrestlers-string': ['doug furnas and phil lafon'],\n",
       "   'r.null-string': ['32'],\n",
       "   'r.event-string': ['live event'],\n",
       "   'r.date-number': [51997.0],\n",
       "   'r.date-string': ['december 5, 1997']},\n",
       "  'row_42': {'r.days_held-string': ['1'],\n",
       "   'r.notes-num2': [20.0],\n",
       "   'r.notes-string': ['aired 8-20-99 on tv'],\n",
       "   'r.date-date': ['1999-08-13'],\n",
       "   'r.reign-number': [7.0],\n",
       "   'r.event-number': [330.0],\n",
       "   'r.days_held-number': [1.0],\n",
       "   'r.location-string': ['cleveland, oh'],\n",
       "   'r.null-number': [41.0],\n",
       "   'r.reign-string': ['7'],\n",
       "   'r.wrestlers-string': ['the dudley boyz'],\n",
       "   'r.null-string': ['41'],\n",
       "   'r.event-string': ['hardcore tv #330'],\n",
       "   'r.date-number': [131999.0],\n",
       "   'r.notes-number': [8.0],\n",
       "   'r.date-string': ['august 13, 1999']},\n",
       "  'row_34': {'r.date-number': [61997.0],\n",
       "   'r.notes-string': [''],\n",
       "   'r.date-date': ['1997-12-06'],\n",
       "   'r.reign-string': ['1'],\n",
       "   'r.days_held-number': [203.0],\n",
       "   'r.location-string': ['philadelphia, pa'],\n",
       "   'r.null-number': [33.0],\n",
       "   'r.reign-number': [1.0],\n",
       "   'r.wrestlers-string': ['chris candido (3) and lance storm'],\n",
       "   'r.null-string': ['33'],\n",
       "   'r.event-string': ['better than ever'],\n",
       "   'r.date-string': ['december 6, 1997'],\n",
       "   'r.days_held-string': ['203']},\n",
       "  'row_35': {'r.date-number': [271998.0],\n",
       "   'r.notes-num2': [1.0],\n",
       "   'r.notes-string': ['aired 7-1-98 on tv'],\n",
       "   'r.date-date': ['1998-06-27'],\n",
       "   'r.reign-string': ['1'],\n",
       "   'r.event-number': [271.0],\n",
       "   'r.days_held-number': [119.0],\n",
       "   'r.location-string': ['philadelphia, pa'],\n",
       "   'r.null-number': [34.0],\n",
       "   'r.notes-number': [7.0],\n",
       "   'r.reign-number': [1.0],\n",
       "   'r.wrestlers-string': ['sabu (2) and rob van dam'],\n",
       "   'r.null-string': ['34'],\n",
       "   'r.event-string': ['hardcore tv #271'],\n",
       "   'r.date-string': ['june 27, 1998'],\n",
       "   'r.days_held-string': ['119']},\n",
       "  'row_53': {'r.days_held-string': ['122'],\n",
       "   'r.notes-string': [\"doring and roadkill's reign was the final one in the title's history\"],\n",
       "   'r.date-date': ['2000-12-03'],\n",
       "   'r.reign-number': [1.0],\n",
       "   'r.event-number': [34.0],\n",
       "   'r.days_held-number': [122.0],\n",
       "   'r.location-string': ['new york, ny'],\n",
       "   'r.null-number': [51.0],\n",
       "   'r.reign-string': ['1'],\n",
       "   'r.wrestlers-string': ['danny doring and roadkill'],\n",
       "   'r.null-string': ['51'],\n",
       "   'r.event-string': ['massacre on 34th street'],\n",
       "   'r.date-number': [32000.0],\n",
       "   'r.date-string': ['december 3, 2000']},\n",
       "  'row_36': {'r.days_held-string': ['8'],\n",
       "   'r.notes-num2': [28.0],\n",
       "   'r.notes-string': ['aired 10-28-98 on tv'],\n",
       "   'r.date-date': ['1998-10-24'],\n",
       "   'r.reign-number': [4.0],\n",
       "   'r.event-number': [288.0],\n",
       "   'r.days_held-number': [8.0],\n",
       "   'r.location-string': ['cleveland, oh'],\n",
       "   'r.null-number': [35.0],\n",
       "   'r.reign-string': ['4'],\n",
       "   'r.wrestlers-string': ['the dudley boyz'],\n",
       "   'r.null-string': ['35'],\n",
       "   'r.event-string': ['hardcore tv #288'],\n",
       "   'r.date-number': [241998.0],\n",
       "   'r.notes-number': [10.0],\n",
       "   'r.date-string': ['october 24, 1998']},\n",
       "  'row_44': {'r.days_held-string': ['0'],\n",
       "   'r.notes-num2': [3.0],\n",
       "   'r.notes-string': ['aired 9-3-99 on tv'],\n",
       "   'r.date-date': ['1999-08-26'],\n",
       "   'r.reign-number': [8.0],\n",
       "   'r.event-number': [2.0],\n",
       "   'r.days_held-number': [0.0],\n",
       "   'r.location-string': ['new york, ny'],\n",
       "   'r.null-number': [43.0],\n",
       "   'r.reign-string': ['8'],\n",
       "   'r.wrestlers-string': ['the dudley boyz'],\n",
       "   'r.null-string': ['43'],\n",
       "   'r.event-string': ['ecw on tnn#2'],\n",
       "   'r.date-number': [261999.0],\n",
       "   'r.notes-number': [9.0],\n",
       "   'r.date-string': ['august 26, 1999']},\n",
       "  'row_52': {'r.days_held-string': ['99'],\n",
       "   'r.notes-num2': [8.0],\n",
       "   'r.notes-string': ['aired 9-8-00 on tv'],\n",
       "   'r.date-date': ['2000-08-26'],\n",
       "   'r.reign-number': [1.0],\n",
       "   'r.event-number': [56.0],\n",
       "   'r.days_held-number': [99.0],\n",
       "   'r.location-string': ['new york, ny'],\n",
       "   'r.null-number': [50.0],\n",
       "   'r.reign-string': ['1'],\n",
       "   'r.wrestlers-string': ['full blooded italians\\\\n(little guido (2) and tony mamaluke)'],\n",
       "   'r.null-string': ['50'],\n",
       "   'r.event-string': ['ecw on tnn#56'],\n",
       "   'r.date-number': [262000.0],\n",
       "   'r.notes-number': [9.0],\n",
       "   'r.date-string': ['august 26, 2000']},\n",
       "  'row_37': {'r.days_held-string': ['5'],\n",
       "   'r.notes-string': [''],\n",
       "   'r.date-date': ['1998-11-01'],\n",
       "   'r.reign-number': [1.0],\n",
       "   'r.event-number': [1998.0],\n",
       "   'r.days_held-number': [5.0],\n",
       "   'r.location-string': ['new orleans, la'],\n",
       "   'r.null-number': [36.0],\n",
       "   'r.reign-string': ['1'],\n",
       "   'r.wrestlers-string': ['balls mahoney and masato tanaka'],\n",
       "   'r.null-string': ['36'],\n",
       "   'r.event-string': ['november to remember'],\n",
       "   'r.date-number': [11998.0],\n",
       "   'r.date-string': ['november 1, 1998']},\n",
       "  'row_41': {'r.date-number': [181999.0],\n",
       "   'r.notes-string': [''],\n",
       "   'r.date-date': ['1999-07-18'],\n",
       "   'r.reign-string': ['1'],\n",
       "   'r.event-number': [1999.0],\n",
       "   'r.days_held-number': [26.0],\n",
       "   'r.location-string': ['dayton, oh'],\n",
       "   'r.null-number': [40.0],\n",
       "   'r.reign-number': [1.0],\n",
       "   'r.wrestlers-string': ['spike dudley and balls mahoney'],\n",
       "   'r.null-string': ['40'],\n",
       "   'r.event-string': ['heat wave'],\n",
       "   'r.date-string': ['july 18, 1999'],\n",
       "   'r.days_held-string': ['26']},\n",
       "  'row_31': {'r.days_held-string': ['28'],\n",
       "   'r.notes-num2': [27.0],\n",
       "   'r.notes-string': ['aired 9-27-97 on tv'],\n",
       "   'r.date-date': ['1997-09-20'],\n",
       "   'r.reign-number': [1.0],\n",
       "   'r.days_held-number': [28.0],\n",
       "   'r.location-string': ['philadelphia, pa'],\n",
       "   'r.null-number': [30.0],\n",
       "   'r.reign-string': ['1'],\n",
       "   'r.wrestlers-string': ['the gangstanators\\\\n(kronus (4) and new jack (3))'],\n",
       "   'r.null-string': ['30'],\n",
       "   'r.event-string': ['as good as it gets'],\n",
       "   'r.date-number': [201997.0],\n",
       "   'r.notes-number': [9.0],\n",
       "   'r.date-string': ['september 20, 1997']},\n",
       "  'row_32': {'r.days_held-string': ['48'],\n",
       "   'r.notes-num2': [1.0],\n",
       "   'r.notes-string': ['aired 11-1-97 on tv'],\n",
       "   'r.date-date': ['1997-10-18'],\n",
       "   'r.reign-number': [1.0],\n",
       "   'r.event-number': [236.0],\n",
       "   'r.days_held-number': [48.0],\n",
       "   'r.location-string': ['philadelphia, pa'],\n",
       "   'r.null-number': [31.0],\n",
       "   'r.reign-string': ['1'],\n",
       "   'r.wrestlers-string': ['full blooded italians\\\\n(little guido and tracy smothers)'],\n",
       "   'r.null-string': ['31'],\n",
       "   'r.event-string': ['hardcore tv #236'],\n",
       "   'r.date-number': [181997.0],\n",
       "   'r.notes-number': [11.0],\n",
       "   'r.date-string': ['october 18, 1997']},\n",
       "  'row_40': {'r.days_held-string': ['92'],\n",
       "   'r.notes-string': ['d-von dudley defeated van dam in a singles match to win the championship for his team. aired 4-23-99 on tv'],\n",
       "   'r.date-date': ['1999-04-17'],\n",
       "   'r.reign-number': [6.0],\n",
       "   'r.event-number': [313.0],\n",
       "   'r.days_held-number': [92.0],\n",
       "   'r.location-string': ['buffalo, ny'],\n",
       "   'r.null-number': [39.0],\n",
       "   'r.reign-string': ['6'],\n",
       "   'r.wrestlers-string': ['the dudley boyz'],\n",
       "   'r.null-string': ['39'],\n",
       "   'r.event-string': ['hardcore tv #313'],\n",
       "   'r.date-number': [171999.0],\n",
       "   'r.date-string': ['april 17, 1999']},\n",
       "  'row_43': {'r.date-number': [141999.0],\n",
       "   'r.notes-num2': [27.0],\n",
       "   'r.notes-string': ['aired 8-27-99 on tv'],\n",
       "   'r.date-date': ['1999-08-14'],\n",
       "   'r.reign-string': ['2'],\n",
       "   'r.event-number': [331.0],\n",
       "   'r.days_held-number': [12.0],\n",
       "   'r.location-string': ['toledo, oh'],\n",
       "   'r.null-number': [42.0],\n",
       "   'r.notes-number': [8.0],\n",
       "   'r.reign-number': [2.0],\n",
       "   'r.wrestlers-string': ['spike dudley and balls mahoney'],\n",
       "   'r.null-string': ['42'],\n",
       "   'r.event-string': ['hardcore tv #331'],\n",
       "   'r.date-string': ['august 14, 1999'],\n",
       "   'r.days_held-string': ['12']},\n",
       "  'row_16': {'r.days_held-string': ['83'],\n",
       "   'r.notes-string': ['also def. rick steiner (who was a substitute for sabu) and taz in 3 way dance'],\n",
       "   'r.date-date': ['1995-04-08'],\n",
       "   'r.reign-number': [3.0],\n",
       "   'r.days_held-number': [83.0],\n",
       "   'r.location-string': ['philadelphia, pa'],\n",
       "   'r.null-number': [15.0],\n",
       "   'r.reign-string': ['3'],\n",
       "   'r.wrestlers-string': ['the public enemy'],\n",
       "   'r.null-string': ['15'],\n",
       "   'r.event-string': ['three way dance'],\n",
       "   'r.date-number': [81995.0],\n",
       "   'r.date-string': ['april 8, 1995']},\n",
       "  'row_17': {'r.days_held-string': ['78'],\n",
       "   'r.notes-num2': [4.0],\n",
       "   'r.notes-string': ['aired 7-4-95 on tv'],\n",
       "   'r.date-date': ['1995-06-30'],\n",
       "   'r.reign-number': [1.0],\n",
       "   'r.event-number': [115.0],\n",
       "   'r.days_held-number': [78.0],\n",
       "   'r.location-string': ['jim thorpe, pa'],\n",
       "   'r.null-number': [16.0],\n",
       "   'r.reign-string': ['1'],\n",
       "   'r.wrestlers-string': ['raven and stevie richards'],\n",
       "   'r.null-string': ['16'],\n",
       "   'r.event-string': ['hardcore tv #115'],\n",
       "   'r.date-number': [301995.0],\n",
       "   'r.notes-number': [7.0],\n",
       "   'r.date-string': ['june 30, 1995']},\n",
       "  'row_14': {'r.date-number': [41995.0],\n",
       "   'r.notes-string': [''],\n",
       "   'r.date-date': ['1995-02-04'],\n",
       "   'r.reign-string': ['1'],\n",
       "   'r.days_held-number': [21.0],\n",
       "   'r.location-string': ['philadelphia, pa'],\n",
       "   'r.null-number': [13.0],\n",
       "   'r.reign-number': [1.0],\n",
       "   'r.wrestlers-string': ['sabu and the tazmaniac'],\n",
       "   'r.null-string': ['13'],\n",
       "   'r.event-string': ['double tables'],\n",
       "   'r.date-string': ['february 4, 1995'],\n",
       "   'r.days_held-string': ['21']},\n",
       "  'row_15': {'r.days_held-string': ['42'],\n",
       "   'r.notes-string': [''],\n",
       "   'r.date-date': ['1995-02-25'],\n",
       "   'r.reign-number': [1.0],\n",
       "   'r.days_held-number': [42.0],\n",
       "   'r.location-string': ['philadelphia, pa'],\n",
       "   'r.null-number': [14.0],\n",
       "   'r.reign-string': ['1'],\n",
       "   'r.wrestlers-string': ['chris benoit and dean malenko'],\n",
       "   'r.null-string': ['14'],\n",
       "   'r.event-string': ['return of the funker'],\n",
       "   'r.date-number': [251995.0],\n",
       "   'r.date-string': ['february 25, 1995']},\n",
       "  'row_12': {'r.days_held-string': ['70'],\n",
       "   'r.notes-string': ['whipwreck was a substitute for terry funk, who left the company. aired 9-13-94 on tv'],\n",
       "   'r.date-date': ['1994-08-27'],\n",
       "   'r.reign-number': [1.0],\n",
       "   'r.event-number': [72.0],\n",
       "   'r.days_held-number': [70.0],\n",
       "   'r.location-string': ['philadelphia, pa'],\n",
       "   'r.null-number': [11.0],\n",
       "   'r.reign-string': ['1'],\n",
       "   'r.wrestlers-string': ['cactus jack and mikey whipwreck'],\n",
       "   'r.null-string': ['11'],\n",
       "   'r.event-string': ['hardcore tv #72'],\n",
       "   'r.date-number': [271994.0],\n",
       "   'r.date-string': ['august 27, 1994']},\n",
       "  'row_13': {'r.days_held-string': ['91'],\n",
       "   'r.notes-string': [''],\n",
       "   'r.date-date': ['1994-11-05'],\n",
       "   'r.reign-number': [2.0],\n",
       "   'r.event-number': [1994.0],\n",
       "   'r.days_held-number': [91.0],\n",
       "   'r.location-string': ['philadelphia, pa'],\n",
       "   'r.null-number': [12.0],\n",
       "   'r.reign-string': ['2'],\n",
       "   'r.wrestlers-string': ['the public enemy'],\n",
       "   'r.null-string': ['12'],\n",
       "   'r.event-string': ['november to remember'],\n",
       "   'r.date-number': [51994.0],\n",
       "   'r.date-string': ['november 5, 1994']},\n",
       "  'row_10': {'r.days_held-string': ['92'],\n",
       "   'r.notes-string': ['defeat dreamer and shane douglas, who was substituting for an injured gunn. after the bout, douglas turned against dreamer and became a heel. aired 12-14-93 on tv'],\n",
       "   'r.date-date': ['1993-12-04'],\n",
       "   'r.reign-number': [1.0],\n",
       "   'r.event-number': [35.0],\n",
       "   'r.days_held-number': [92.0],\n",
       "   'r.location-string': ['philadelphia, pa'],\n",
       "   'r.null-number': [9.0],\n",
       "   'r.reign-string': ['1'],\n",
       "   'r.wrestlers-string': ['kevin sullivan and the tazmaniac'],\n",
       "   'r.null-string': ['9'],\n",
       "   'r.event-string': ['hardcore tv #35'],\n",
       "   'r.date-number': [41993.0],\n",
       "   'r.date-string': ['december 4, 1993']},\n",
       "  'row_11': {'r.days_held-string': ['174'],\n",
       "   'r.notes-num2': [8.0],\n",
       "   'r.notes-string': ['aired 3-8-94 on tv'],\n",
       "   'r.date-date': ['1994-03-06'],\n",
       "   'r.reign-number': [1.0],\n",
       "   'r.event-number': [46.0],\n",
       "   'r.days_held-number': [174.0],\n",
       "   'r.location-string': ['philadelphia, pa'],\n",
       "   'r.null-number': [10.0],\n",
       "   'r.reign-string': ['1'],\n",
       "   'r.wrestlers-string': ['the public enemy\\\\n(johnny grunge and rocco rock)'],\n",
       "   'r.null-string': ['10'],\n",
       "   'r.event-string': ['hardcore tv #46'],\n",
       "   'r.date-number': [61994.0],\n",
       "   'r.notes-number': [3.0],\n",
       "   'r.date-string': ['march 6, 1994']},\n",
       "  'row_38': {'r.days_held-string': ['37'],\n",
       "   'r.notes-num2': [11.0],\n",
       "   'r.notes-string': ['aired 11-11-98 on tv'],\n",
       "   'r.date-date': ['1998-11-06'],\n",
       "   'r.reign-number': [5.0],\n",
       "   'r.event-number': [290.0],\n",
       "   'r.days_held-number': [37.0],\n",
       "   'r.location-string': ['new york, ny'],\n",
       "   'r.null-number': [37.0],\n",
       "   'r.reign-string': ['5'],\n",
       "   'r.wrestlers-string': ['the dudley boyz'],\n",
       "   'r.null-string': ['37'],\n",
       "   'r.event-string': ['hardcore tv #290'],\n",
       "   'r.date-number': [61998.0],\n",
       "   'r.notes-number': [11.0],\n",
       "   'r.date-string': ['november 6, 1998']},\n",
       "  'row_39': {'r.date-number': [131998.0],\n",
       "   'r.notes-num2': [16.0],\n",
       "   'r.notes-string': ['aired 12-16-98 on tv'],\n",
       "   'r.date-date': ['1998-12-13'],\n",
       "   'r.reign-string': ['2'],\n",
       "   'r.days_held-number': [125.0],\n",
       "   'r.location-string': ['tokyo, japan'],\n",
       "   'r.null-number': [38.0],\n",
       "   'r.notes-number': [12.0],\n",
       "   'r.reign-number': [2.0],\n",
       "   'r.wrestlers-string': ['sabu (3) and rob van dam'],\n",
       "   'r.null-string': ['38'],\n",
       "   'r.event-string': ['ecw/fmw supershow ii'],\n",
       "   'r.date-string': ['december 13, 1998'],\n",
       "   'r.days_held-string': ['125']},\n",
       "  'row_50': {'r.days_held-string': ['125'],\n",
       "   'r.notes-string': ['at cyberslam, justin credible threw down the titles to become eligible for the ecw world heavyweight championship. storm later left for world championship wrestling. as a result of the circumstances, credible vacated the championship'],\n",
       "   'r.date-date': ['2000-04-22'],\n",
       "   'r.reign-number': [3.0],\n",
       "   'r.days_held-number': [125.0],\n",
       "   'r.location-string': ['philadelphia, pa'],\n",
       "   'r.reign-string': ['3'],\n",
       "   'r.wrestlers-string': ['vacated'],\n",
       "   'r.null-string': ['-'],\n",
       "   'r.event-string': ['live event'],\n",
       "   'r.date-number': [222000.0],\n",
       "   'r.date-string': ['april 22, 2000']},\n",
       "  'row_51': {'r.date-number': [252000.0],\n",
       "   'r.notes-num2': [1.0],\n",
       "   'r.notes-string': ['aired 9-1-00 on tv'],\n",
       "   'r.date-date': ['2000-08-25'],\n",
       "   'r.reign-string': ['1'],\n",
       "   'r.event-number': [55.0],\n",
       "   'r.days_held-number': [1.0],\n",
       "   'r.location-string': ['new york, ny'],\n",
       "   'r.null-number': [49.0],\n",
       "   'r.notes-number': [9.0],\n",
       "   'r.reign-number': [1.0],\n",
       "   'r.wrestlers-string': ['yoshihiro tajiri and mikey whipwreck'],\n",
       "   'r.null-string': ['49'],\n",
       "   'r.event-string': ['ecw on tnn#55'],\n",
       "   'r.date-string': ['august 25, 2000'],\n",
       "   'r.days_held-string': ['1']},\n",
       "  'row_18': {'r.days_held-string': ['21'],\n",
       "   'r.notes-string': [''],\n",
       "   'r.date-date': ['1995-09-16'],\n",
       "   'r.reign-number': [1.0],\n",
       "   'r.days_held-number': [21.0],\n",
       "   'r.location-string': ['philadelphia, pa'],\n",
       "   'r.null-number': [17.0],\n",
       "   'r.reign-string': ['1'],\n",
       "   'r.wrestlers-string': ['the pitbulls\\\\n(pitbull #1 and pitbull #2)'],\n",
       "   'r.null-string': ['17'],\n",
       "   'r.event-string': [\"gangsta's paradise\"],\n",
       "   'r.date-number': [161995.0],\n",
       "   'r.date-string': ['september 16, 1995']},\n",
       "  'row_19': {'r.days_held-string': ['0'],\n",
       "   'r.notes-num2': [24.0],\n",
       "   'r.notes-string': ['aired 10-24-95 on tv'],\n",
       "   'r.date-date': ['1995-10-07'],\n",
       "   'r.reign-number': [2.0],\n",
       "   'r.event-number': [131.0],\n",
       "   'r.days_held-number': [0.0],\n",
       "   'r.location-string': ['philadelphia, pa'],\n",
       "   'r.null-number': [18.0],\n",
       "   'r.reign-string': ['2'],\n",
       "   'r.wrestlers-string': ['raven and stevie richards'],\n",
       "   'r.null-string': ['18'],\n",
       "   'r.event-string': ['hardcore tv #131'],\n",
       "   'r.date-number': [71995.0],\n",
       "   'r.notes-number': [10.0],\n",
       "   'r.date-string': ['october 7, 1995']},\n",
       "  'row_4': {'r.days_held-string': ['46'],\n",
       "   'r.notes-num2': [20.0],\n",
       "   'r.notes-string': ['aired 7-20-93 on tv'],\n",
       "   'r.date-date': ['1993-05-15'],\n",
       "   'r.reign-number': [2.0],\n",
       "   'r.event-number': [15.0],\n",
       "   'r.days_held-number': [46.0],\n",
       "   'r.location-string': ['philadelphia, pa'],\n",
       "   'r.null-number': [5.0],\n",
       "   'r.reign-string': ['2'],\n",
       "   'r.wrestlers-string': ['the suicide blondes'],\n",
       "   'r.null-string': ['5'],\n",
       "   'r.event-string': ['hardcore tv #15'],\n",
       "   'r.date-number': [151993.0],\n",
       "   'r.notes-number': [7.0],\n",
       "   'r.date-string': ['may 15, 1993']},\n",
       "  'row_5': {'r.days_held-string': ['39'],\n",
       "   'r.notes-string': ['ecw vacated the title after candido left the promotion for the smoky mountain wrestling organization'],\n",
       "   'r.date-date': ['1993-07-xx'],\n",
       "   'r.reign-number': [1.0],\n",
       "   'r.days_held-number': [39.0],\n",
       "   'r.location-string': ['n/a'],\n",
       "   'r.reign-string': ['1'],\n",
       "   'r.wrestlers-string': ['vacated'],\n",
       "   'r.null-string': ['-'],\n",
       "   'r.event-string': ['n/a'],\n",
       "   'r.date-number': [1993.0],\n",
       "   'r.date-string': ['july 1993']},\n",
       "  'row_6': {'r.days_held-string': ['54'],\n",
       "   'r.notes-string': ['the dark patriot and gilbert won the titles in a tournament final. aired 9-7-93 on tv'],\n",
       "   'r.date-date': ['1993-08-08'],\n",
       "   'r.reign-number': [1.0],\n",
       "   'r.event-number': [21.0],\n",
       "   'r.days_held-number': [54.0],\n",
       "   'r.location-string': ['philadelphia, pa'],\n",
       "   'r.null-number': [6.0],\n",
       "   'r.reign-string': ['1'],\n",
       "   'r.wrestlers-string': ['the dark patriot and eddie gilbert'],\n",
       "   'r.null-string': ['6'],\n",
       "   'r.event-string': ['hardcore tv #21'],\n",
       "   'r.date-number': [81993.0],\n",
       "   'r.date-string': ['august 8, 1993']},\n",
       "  'row_7': {'r.days_held-string': ['0'],\n",
       "   'r.notes-string': ['ecw vacated the championships after the dark patriot and eddie gilbert left the organization'],\n",
       "   'r.date-date': ['1993-10-01'],\n",
       "   'r.reign-number': [2.0],\n",
       "   'r.event-number': [1.0],\n",
       "   'r.days_held-number': [0.0],\n",
       "   'r.location-string': ['philadelphia, pa'],\n",
       "   'r.reign-string': ['2'],\n",
       "   'r.wrestlers-string': ['vacated'],\n",
       "   'r.null-string': ['-'],\n",
       "   'r.event-string': ['bloodfest: part 1'],\n",
       "   'r.date-number': [11993.0],\n",
       "   'r.date-string': ['october 1, 1993']},\n",
       "  'row_0': {'r.days_held-string': ['283'],\n",
       "   'r.notes-string': ['petrucci and stahl won the titles in a tournament final'],\n",
       "   'r.date-date': ['1992-06-23'],\n",
       "   'r.reign-number': [1.0],\n",
       "   'r.days_held-number': [283.0],\n",
       "   'r.location-string': ['philadelphia, pa'],\n",
       "   'r.null-number': [1.0],\n",
       "   'r.reign-string': ['1'],\n",
       "   'r.wrestlers-string': ['the super destroyers\\\\n(a.j. petrucci and doug stahl)'],\n",
       "   'r.null-string': ['1'],\n",
       "   'r.event-string': ['live event'],\n",
       "   'r.date-number': [231992.0],\n",
       "   'r.date-string': ['june 23, 1992']},\n",
       "  'row_1': {'r.days_held-string': ['1'],\n",
       "   'r.notes-num2': [11.0],\n",
       "   'r.notes-string': ['aired 5-11-93 on tv'],\n",
       "   'r.date-date': ['1993-04-02'],\n",
       "   'r.reign-number': [1.0],\n",
       "   'r.event-number': [6.0],\n",
       "   'r.days_held-number': [1.0],\n",
       "   'r.location-string': ['radnor, pa'],\n",
       "   'r.null-number': [2.0],\n",
       "   'r.reign-string': ['1'],\n",
       "   'r.wrestlers-string': ['tony stetson and larry winters'],\n",
       "   'r.null-string': ['2'],\n",
       "   'r.event-string': ['hardcore tv #6'],\n",
       "   'r.date-number': [21993.0],\n",
       "   'r.notes-number': [5.0],\n",
       "   'r.date-string': ['april 2, 1993']},\n",
       "  'row_2': {'r.days_held-string': ['42'],\n",
       "   'r.notes-string': ['all three wrestlers were recognized as champions, and were able to defend the titles in any combination via the freebird rule. aired 5-25-93 on tv'],\n",
       "   'r.date-date': ['1993-04-03'],\n",
       "   'r.reign-number': [1.0],\n",
       "   'r.event-number': [8.0],\n",
       "   'r.days_held-number': [42.0],\n",
       "   'r.location-string': ['philadelphia, pa'],\n",
       "   'r.null-number': [3.0],\n",
       "   'r.reign-string': ['1'],\n",
       "   'r.wrestlers-string': ['the suicide blondes\\\\n(chris candido, johnny hotbody, and chris michaels)'],\n",
       "   'r.null-string': ['3'],\n",
       "   'r.event-string': ['hardcore tv #8'],\n",
       "   'r.date-number': [31993.0],\n",
       "   'r.date-string': ['april 3, 1993']},\n",
       "  'row_3': {'r.days_held-string': ['0'],\n",
       "   'r.notes-num2': [6.0],\n",
       "   'r.notes-string': ['aired 7-6-93 on tv'],\n",
       "   'r.date-date': ['1993-05-15'],\n",
       "   'r.reign-number': [2.0],\n",
       "   'r.event-number': [14.0],\n",
       "   'r.days_held-number': [0.0],\n",
       "   'r.location-string': ['philadelphia, pa'],\n",
       "   'r.null-number': [4.0],\n",
       "   'r.reign-string': ['2'],\n",
       "   'r.wrestlers-string': ['the super destroyers'],\n",
       "   'r.null-string': ['4'],\n",
       "   'r.event-string': ['hardcore tv #14'],\n",
       "   'r.date-number': [151993.0],\n",
       "   'r.notes-number': [7.0],\n",
       "   'r.date-string': ['may 15, 1993']},\n",
       "  'row_46': {'r.days_held-string': ['48'],\n",
       "   'r.notes-string': [''],\n",
       "   'r.date-date': ['2000-01-09'],\n",
       "   'r.reign-number': [1.0],\n",
       "   'r.event-number': [2000.0],\n",
       "   'r.days_held-number': [48.0],\n",
       "   'r.location-string': ['birmingham, al'],\n",
       "   'r.null-number': [45.0],\n",
       "   'r.reign-string': ['1'],\n",
       "   'r.wrestlers-string': ['impact players\\\\n(justin credible and lance storm (2))'],\n",
       "   'r.null-string': ['45'],\n",
       "   'r.event-string': ['guilty as charged'],\n",
       "   'r.date-number': [92000.0],\n",
       "   'r.date-string': ['january 9, 2000']},\n",
       "  'row_8': {'r.days_held-string': ['43'],\n",
       "   'r.notes-string': ['hotbody and stetson were awarded the titles by ecw'],\n",
       "   'r.date-date': ['1993-10-01'],\n",
       "   'r.reign-number': [1.0],\n",
       "   'r.event-number': [1.0],\n",
       "   'r.days_held-number': [43.0],\n",
       "   'r.location-string': ['philadelphia, pa'],\n",
       "   'r.null-number': [7.0],\n",
       "   'r.reign-string': ['1'],\n",
       "   'r.wrestlers-string': ['johnny hotbody (3) and tony stetson'],\n",
       "   'r.null-string': ['7'],\n",
       "   'r.event-string': ['bloodfest: part 1'],\n",
       "   'r.date-number': [11993.0],\n",
       "   'r.date-string': ['october 1, 1993']},\n",
       "  'row_9': {'r.days_held-string': ['21'],\n",
       "   'r.notes-string': [''],\n",
       "   'r.date-date': ['1993-11-13'],\n",
       "   'r.reign-number': [1.0],\n",
       "   'r.event-number': [1993.0],\n",
       "   'r.days_held-number': [21.0],\n",
       "   'r.location-string': ['philadelphia, pa'],\n",
       "   'r.null-number': [8.0],\n",
       "   'r.reign-string': ['1'],\n",
       "   'r.wrestlers-string': ['tommy dreamer and johnny gunn'],\n",
       "   'r.null-string': ['8'],\n",
       "   'r.event-string': ['november to remember'],\n",
       "   'r.date-number': [131993.0],\n",
       "   'r.date-string': ['november 13, 1993']},\n",
       "  'row_48': {'r.date-number': [42000.0],\n",
       "   'r.notes-num2': [10.0],\n",
       "   'r.notes-string': ['aired 3-10-00 on tv'],\n",
       "   'r.date-date': ['2000-03-04'],\n",
       "   'r.reign-string': ['1'],\n",
       "   'r.event-number': [29.0],\n",
       "   'r.days_held-number': [8.0],\n",
       "   'r.location-string': ['philadelphia, pa'],\n",
       "   'r.null-number': [47.0],\n",
       "   'r.notes-number': [3.0],\n",
       "   'r.reign-number': [1.0],\n",
       "   'r.wrestlers-string': ['mike awesome and raven'],\n",
       "   'r.null-string': ['47'],\n",
       "   'r.event-string': ['ecw on tnn#29'],\n",
       "   'r.date-string': ['march 4, 2000'],\n",
       "   'r.days_held-string': ['8']},\n",
       "  'row_47': {'r.days_held-string': ['7'],\n",
       "   'r.notes-num2': [7.0],\n",
       "   'r.notes-string': ['aired 3-7-00 on tv'],\n",
       "   'r.date-date': ['2000-02-26'],\n",
       "   'r.reign-number': [1.0],\n",
       "   'r.event-number': [358.0],\n",
       "   'r.days_held-number': [7.0],\n",
       "   'r.location-string': ['cincinnati, oh'],\n",
       "   'r.null-number': [46.0],\n",
       "   'r.reign-string': ['1'],\n",
       "   'r.wrestlers-string': ['tommy dreamer (3) and masato tanaka'],\n",
       "   'r.null-string': ['46'],\n",
       "   'r.event-string': ['hardcore tv #358'],\n",
       "   'r.date-number': [262000.0],\n",
       "   'r.notes-number': [3.0],\n",
       "   'r.date-string': ['february 26, 2000']}},\n",
       " 'name': 't_204_23',\n",
       " 'num_props': ['r.event-num2',\n",
       "  'r.notes-num2',\n",
       "  'r.days_held-number',\n",
       "  'r.event-number',\n",
       "  'r.null-number',\n",
       "  'r.reign-number',\n",
       "  'r.date-number',\n",
       "  'r.notes-number',\n",
       "  'r.wrestlers-number'],\n",
       " 'row_ents': ['row_49',\n",
       "  'row_30',\n",
       "  'row_29',\n",
       "  'row_28',\n",
       "  'row_27',\n",
       "  'row_26',\n",
       "  'row_25',\n",
       "  'row_24',\n",
       "  'row_23',\n",
       "  'row_22',\n",
       "  'row_21',\n",
       "  'row_20',\n",
       "  'row_45',\n",
       "  'row_33',\n",
       "  'row_42',\n",
       "  'row_34',\n",
       "  'row_35',\n",
       "  'row_53',\n",
       "  'row_36',\n",
       "  'row_44',\n",
       "  'row_52',\n",
       "  'row_37',\n",
       "  'row_41',\n",
       "  'row_31',\n",
       "  'row_32',\n",
       "  'row_40',\n",
       "  'row_43',\n",
       "  'row_16',\n",
       "  'row_17',\n",
       "  'row_14',\n",
       "  'row_15',\n",
       "  'row_12',\n",
       "  'row_13',\n",
       "  'row_10',\n",
       "  'row_11',\n",
       "  'row_38',\n",
       "  'row_39',\n",
       "  'row_50',\n",
       "  'row_51',\n",
       "  'row_18',\n",
       "  'row_19',\n",
       "  'row_4',\n",
       "  'row_5',\n",
       "  'row_6',\n",
       "  'row_7',\n",
       "  'row_0',\n",
       "  'row_1',\n",
       "  'row_2',\n",
       "  'row_3',\n",
       "  'row_46',\n",
       "  'row_8',\n",
       "  'row_9',\n",
       "  'row_48',\n",
       "  'row_47'],\n",
       " 'datetime_props': ['r.date-date'],\n",
       " 'props': ['r.notes-string',\n",
       "  'r.location-string',\n",
       "  'r.reign-string',\n",
       "  'r.wrestlers-string',\n",
       "  'r.null-string',\n",
       "  'r.event-string',\n",
       "  'r.days_held-string',\n",
       "  'r.date-string',\n",
       "  'r.event-num2',\n",
       "  'r.notes-num2',\n",
       "  'r.days_held-number',\n",
       "  'r.event-number',\n",
       "  'r.null-number',\n",
       "  'r.reign-number',\n",
       "  'r.date-number',\n",
       "  'r.notes-number',\n",
       "  'r.wrestlers-number',\n",
       "  'r.date-date']}"
      ]
     },
     "execution_count": 15,
     "metadata": {},
     "output_type": "execute_result"
    }
   ],
   "source": [
    "#test_dics['nt-195'].interpreter.reset(only_reset_variables=True)\n",
    "d = test_dics['nt-94'].clone()\n",
    "d.kg\n",
    "#print(d.constants)\n",
    "#print(d.interpreter.namespace)"
   ]
  },
  {
   "cell_type": "code",
   "execution_count": 29,
   "id": "dbe9f454-ffab-4e1d-89c7-5ef81af6c484",
   "metadata": {},
   "outputs": [],
   "source": [
    "nt195 = {\"features\": [[0], [1], [0], [0], [0], [0], [0], [0], [1], [0], [0], [0], [1], [0], [0], [0], [0], [0], [0], [0], [0], [0]], \"tokens\": [\"which\", \"three\", \"artists\", \"had\", \"a\", \"single\", \"at\", \"number\", \"1\", \"for\", \"at\", \"least\", \"7\", \"weeks\", \"on\", \"the\", \"australian\", \"singles\", \"charts\", \"in\", \"1977\", \"?\"], \"prop_features\": {\"r.null-string\": [0], \"r.artist-string\": [1], \"r.title-string\": [0], \"r.null-number\": [0], \"r.highest_pos_reached-number\": [0], \"r.weeks_at_no_1-string\": [2], \"r.highest_pos_reached-string\": [0], \"r.weeks_at_no_1-number\": [2]}, \"processed_tokens\": [\"which\", \"<\", \"N\", \"U\", \"M\", \"B\", \"E\", \"R\", \"<\", \"N\", \"<DURATION>\", \"<DURATION>\", \"<DURATION>\", \"E\", \"R\", \">\", \"<MISC>\", \"had\", \"a\", \"single\", \"at\", \"number\", \"1\", \"for\", \"at\", \"least\", \"7\", \"weeks\", \"on\", \"the\", \"australian\", \"singles\", \"charts\", \"in\", \"1977\", \"?\"], \"id\": \"nt-195\", \"tmp_tokens\": [\"which\", \"three\", \"artists\", \"had\", \"a\", \"single\", \"at\", \"number\", \"1\", \"for\", \"at\", \"least\", \"7\", \"weeks\", \"on\", \"the\", \"australian\", \"singles\", \"charts\", \"in\", \"1977\", \"?\"], \"question\": \"which three artists had a single at number 1 for at least 7 weeks on the australian singles charts in 1977?\", \"pos_tags\": [\"WDT\", \"CD\", \"NNS\", \"VBD-AUX\", \"DT\", \"JJ\", \"IN\", \"NN\", \"CD\", \"IN\", \"IN\", \"JJS\", \"CD\", \"NNS\", \"IN\", \"DT\", \"JJ\", \"NNS\", \"NNS\", \"IN\", \"CD\", \".\"], \"entities\": [{\"token_end\": 9, \"token_start\": 8, \"type\": \"string_list\", \"value\": [\"1\"]}, {\"token_end\": 13, \"token_start\": 12, \"type\": \"string_list\", \"value\": [\"7\"]}, {\"token_end\": 2, \"token_start\": 1, \"type\": \"num_list\", \"value\": [3]}, {\"token_end\": 9, \"token_start\": 8, \"type\": \"num_list\", \"value\": [1]}, {\"token_end\": 14, \"token_start\": 13, \"type\": \"num_list\", \"value\": [0]}, {\"token_end\": 21, \"token_start\": 20, \"type\": \"datetime_list\", \"value\": [\"1977-xx-xx\"]}], \"in_table\": [0, 1, 0, 0, 0, 0, 0, 0, 1, 0, 0, 0, 1, 0, 0, 0, 0, 0, 0, 0, 0, 0], \"context\": \"t_203_197\", \"answer\": [\"Julie Covington|Pussyfoot|Andy Gibb\", \"Julie Covington|Pussyfoot|Andy Gibb\"]}\n"
   ]
  },
  {
   "cell_type": "code",
   "execution_count": 31,
   "id": "45e805e1-abfb-412c-a450-2ad5a358bbaf",
   "metadata": {},
   "outputs": [
    {
     "data": {
      "text/plain": [
       "[{'token_end': 9, 'token_start': 8, 'type': 'string_list', 'value': ['1']},\n",
       " {'token_end': 13, 'token_start': 12, 'type': 'string_list', 'value': ['7']},\n",
       " {'token_end': 2, 'token_start': 1, 'type': 'num_list', 'value': [3]},\n",
       " {'token_end': 9, 'token_start': 8, 'type': 'num_list', 'value': [1]},\n",
       " {'token_end': 14, 'token_start': 13, 'type': 'num_list', 'value': [0]},\n",
       " {'token_end': 21,\n",
       "  'token_start': 20,\n",
       "  'type': 'datetime_list',\n",
       "  'value': ['1977-xx-xx']}]"
      ]
     },
     "execution_count": 31,
     "metadata": {},
     "output_type": "execute_result"
    }
   ],
   "source": [
    "nt195['entities']"
   ]
  },
  {
   "cell_type": "code",
   "execution_count": 28,
   "id": "a2d2c147-e80c-4467-a7ed-d44da122a666",
   "metadata": {},
   "outputs": [
    {
     "name": "stdout",
     "output_type": "stream",
     "text": [
      "6\n",
      "[{'token_end': 9, 'token_start': 8, 'type': 'string_list', 'value': ['1']}, {'token_end': 13, 'token_start': 12, 'type': 'string_list', 'value': ['7']}, {'token_end': 2, 'token_start': 1, 'type': 'num_list', 'value': [3]}, {'token_end': 9, 'token_start': 8, 'type': 'num_list', 'value': [1]}, {'token_end': 14, 'token_start': 13, 'type': 'num_list', 'value': [0]}, {'token_end': 21, 'token_start': 20, 'type': 'datetime_list', 'value': ['1977-xx-xx']}]\n"
     ]
    },
    {
     "data": {
      "text/plain": [
       "[('v0',\n",
       "  {'value': 'r.title-string', 'type': 'string_property', 'is_constant': True}),\n",
       " ('v1',\n",
       "  {'value': 'r.weeks_at_no_1-string',\n",
       "   'type': 'string_property',\n",
       "   'is_constant': True}),\n",
       " ('v2',\n",
       "  {'value': 'r.highest_pos_reached-string',\n",
       "   'type': 'string_property',\n",
       "   'is_constant': True}),\n",
       " ('v3',\n",
       "  {'value': 'r.artist-string',\n",
       "   'type': 'string_property',\n",
       "   'is_constant': True}),\n",
       " ('v4',\n",
       "  {'value': 'r.null-string', 'type': 'string_property', 'is_constant': True}),\n",
       " ('v5',\n",
       "  {'value': 'r.highest_pos_reached-number',\n",
       "   'type': 'num_property',\n",
       "   'is_constant': True}),\n",
       " ('v6',\n",
       "  {'value': 'r.null-number', 'type': 'num_property', 'is_constant': True}),\n",
       " ('v7',\n",
       "  {'value': 'r.weeks_at_no_1-number',\n",
       "   'type': 'num_property',\n",
       "   'is_constant': True}),\n",
       " ('v8', {'value': ['1'], 'type': 'string_list', 'is_constant': True}),\n",
       " ('v9', {'value': ['7'], 'type': 'string_list', 'is_constant': True}),\n",
       " ('v10', {'value': [3], 'type': 'num_list', 'is_constant': True}),\n",
       " ('v11', {'value': [1], 'type': 'num_list', 'is_constant': True}),\n",
       " ('v12', {'value': [0], 'type': 'num_list', 'is_constant': True}),\n",
       " ('v13',\n",
       "  {'value': ['1977-xx-xx'], 'type': 'datetime_list', 'is_constant': True})]"
      ]
     },
     "execution_count": 28,
     "metadata": {},
     "output_type": "execute_result"
    }
   ],
   "source": [
    "ents = d.question_annotation['entities']\n",
    "print(len(ents))\n",
    "print(ents)\n",
    "list(filter(lambda x: x[0].startswith('v'), d.interpreter.namespace.items()))"
   ]
  },
  {
   "cell_type": "code",
   "execution_count": 16,
   "id": "82441c9a-5474-43c1-ae25-6f29c6697698",
   "metadata": {
    "tags": []
   },
   "outputs": [
    {
     "name": "stdout",
     "output_type": "stream",
     "text": [
      "Namespace:\n",
      "Function: hop\n",
      "Function: filter_eq\n",
      "Function: filter_not_eq\n",
      "Function: argmax\n",
      "Function: argmin\n",
      "Entity: same, Value: {'value': <bound method TableExecutor.same of <nsm.execution.worlds.wikitablequestions.WikiTableExecutor object at 0x7f797d9d6160>>, 'type': 'global_primitive_function', 'autocomplete': <bound method TableExecutor.autocomplete_same of <nsm.execution.worlds.wikitablequestions.WikiTableExecutor object at 0x7f797d9d6160>>, 'return_type': 'entity_list', 'args': [{'types': ['entity_list']}, {'types': ['property']}]}\n",
      "Function: first\n",
      "Function: last\n",
      "Function: next\n",
      "Function: previous\n",
      "Function: count\n",
      "Function: filter_str_contain_any\n",
      "Function: filter_str_contain_not_any\n",
      "Function: filter_ge\n",
      "Function: filter_greater\n",
      "Function: filter_le\n",
      "Function: filter_less\n",
      "Function: maximum\n",
      "Function: minimum\n",
      "Function: mode\n",
      "Function: average\n",
      "Function: sum\n",
      "Function: diff\n",
      "Entity: all_rows, Value: {'value': ['row_49', 'row_30', 'row_29', 'row_28', 'row_27', 'row_26', 'row_25', 'row_24', 'row_23', 'row_22', 'row_21', 'row_20', 'row_45', 'row_33', 'row_42', 'row_34', 'row_35', 'row_53', 'row_36', 'row_44', 'row_52', 'row_37', 'row_41', 'row_31', 'row_32', 'row_40', 'row_43', 'row_16', 'row_17', 'row_14', 'row_15', 'row_12', 'row_13', 'row_10', 'row_11', 'row_38', 'row_39', 'row_50', 'row_51', 'row_18', 'row_19', 'row_4', 'row_5', 'row_6', 'row_7', 'row_0', 'row_1', 'row_2', 'row_3', 'row_46', 'row_8', 'row_9', 'row_48', 'row_47'], 'type': 'entity_list', 'is_constant': True}\n",
      "Entity: v0, Value: {'value': 'r.notes-string', 'type': 'string_property', 'is_constant': True}\n",
      "Entity: v1, Value: {'value': 'r.location-string', 'type': 'string_property', 'is_constant': True}\n",
      "Entity: v2, Value: {'value': 'r.reign-string', 'type': 'string_property', 'is_constant': True}\n",
      "Entity: v3, Value: {'value': 'r.wrestlers-string', 'type': 'string_property', 'is_constant': True}\n",
      "Entity: v4, Value: {'value': 'r.null-string', 'type': 'string_property', 'is_constant': True}\n",
      "Entity: v5, Value: {'value': 'r.event-string', 'type': 'string_property', 'is_constant': True}\n",
      "Entity: v6, Value: {'value': 'r.days_held-string', 'type': 'string_property', 'is_constant': True}\n",
      "Entity: v7, Value: {'value': 'r.date-string', 'type': 'string_property', 'is_constant': True}\n",
      "Entity: v8, Value: {'value': 'r.event-num2', 'type': 'num_property', 'is_constant': True}\n",
      "Entity: v9, Value: {'value': 'r.notes-num2', 'type': 'num_property', 'is_constant': True}\n",
      "Entity: v10, Value: {'value': 'r.days_held-number', 'type': 'num_property', 'is_constant': True}\n",
      "Entity: v11, Value: {'value': 'r.event-number', 'type': 'num_property', 'is_constant': True}\n",
      "Entity: v12, Value: {'value': 'r.null-number', 'type': 'num_property', 'is_constant': True}\n",
      "Entity: v13, Value: {'value': 'r.reign-number', 'type': 'num_property', 'is_constant': True}\n",
      "Entity: v14, Value: {'value': 'r.date-number', 'type': 'num_property', 'is_constant': True}\n",
      "Entity: v15, Value: {'value': 'r.notes-number', 'type': 'num_property', 'is_constant': True}\n",
      "Entity: v16, Value: {'value': 'r.wrestlers-number', 'type': 'num_property', 'is_constant': True}\n",
      "Entity: v17, Value: {'value': 'r.date-date', 'type': 'datetime_property', 'is_constant': True}\n",
      "Entity: v18, Value: {'value': ['event'], 'type': 'string_list', 'is_constant': True}\n",
      "Entity: v19, Value: {'value': ['hardcore tv #15'], 'type': 'string_list', 'is_constant': True}\n"
     ]
    },
    {
     "name": "stdin",
     "output_type": "stream",
     "text": [
      ">  (filter_str_contain_any\n"
     ]
    },
    {
     "name": "stdout",
     "output_type": "stream",
     "text": [
      "Read in [(], valid tokens: ['hop', 'filter_eq', 'filter_not_eq', 'argmax', 'argmin', 'same', 'first', 'last', 'next', 'previous', 'count', 'filter_str_contain_any', 'filter_str_contain_not_any', 'filter_ge', 'filter_greater', 'filter_le', 'filter_less', 'maximum', 'minimum', 'mode', 'average', 'sum', 'diff']\n",
      "Read in [filter_str_contain_any], valid tokens: ['all_rows']\n"
     ]
    },
    {
     "name": "stdin",
     "output_type": "stream",
     "text": [
      ">  all_rows\n"
     ]
    },
    {
     "name": "stdout",
     "output_type": "stream",
     "text": [
      "Read in [all_rows], valid tokens: ['v18', 'v19']\n"
     ]
    },
    {
     "name": "stdin",
     "output_type": "stream",
     "text": [
      ">  v19\n"
     ]
    },
    {
     "name": "stdout",
     "output_type": "stream",
     "text": [
      "Read in [v19], valid tokens: ['v5']\n"
     ]
    },
    {
     "name": "stdin",
     "output_type": "stream",
     "text": [
      ">  v5\n"
     ]
    },
    {
     "name": "stdout",
     "output_type": "stream",
     "text": [
      "Read in [v5], valid tokens: [')']\n"
     ]
    },
    {
     "name": "stdin",
     "output_type": "stream",
     "text": [
      ">  )\n"
     ]
    },
    {
     "name": "stdout",
     "output_type": "stream",
     "text": [
      "v20 {'value': ['row_4'], 'type': 'entity_list', 'is_constant': False}\n",
      "Read in [)], valid tokens: ['(', '<END>']\n",
      "Result:\n",
      "{\n",
      "  \"value\": [\n",
      "    \"row_4\"\n",
      "  ],\n",
      "  \"type\": \"entity_list\",\n",
      "  \"is_constant\": false\n",
      "}\n"
     ]
    },
    {
     "name": "stdin",
     "output_type": "stream",
     "text": [
      ">  (next\n"
     ]
    },
    {
     "name": "stdout",
     "output_type": "stream",
     "text": [
      "Read in [(], valid tokens: ['hop', 'filter_eq', 'filter_not_eq', 'argmax', 'argmin', 'same', 'first', 'last', 'next', 'previous', 'count', 'filter_str_contain_any', 'filter_str_contain_not_any', 'filter_ge', 'filter_greater', 'filter_le', 'filter_less', 'maximum', 'minimum', 'mode', 'average', 'sum', 'diff']\n",
      "Read in [next], valid tokens: ['v20']\n"
     ]
    },
    {
     "name": "stdin",
     "output_type": "stream",
     "text": [
      ">  v20\n"
     ]
    },
    {
     "name": "stdout",
     "output_type": "stream",
     "text": [
      "Read in [v20], valid tokens: [')']\n"
     ]
    },
    {
     "name": "stdin",
     "output_type": "stream",
     "text": [
      ">  )\n"
     ]
    },
    {
     "name": "stdout",
     "output_type": "stream",
     "text": [
      "v21 {'value': ['row_5'], 'type': 'entity_list', 'is_constant': False}\n",
      "Read in [)], valid tokens: ['(', '<END>']\n",
      "Result:\n",
      "{\n",
      "  \"value\": [\n",
      "    \"row_5\"\n",
      "  ],\n",
      "  \"type\": \"entity_list\",\n",
      "  \"is_constant\": false\n",
      "}\n"
     ]
    },
    {
     "name": "stdin",
     "output_type": "stream",
     "text": [
      ">  (hop\n"
     ]
    },
    {
     "name": "stdout",
     "output_type": "stream",
     "text": [
      "Read in [(], valid tokens: ['hop', 'filter_eq', 'filter_not_eq', 'argmax', 'argmin', 'same', 'first', 'last', 'next', 'previous', 'count', 'filter_str_contain_any', 'filter_str_contain_not_any', 'filter_ge', 'filter_greater', 'filter_le', 'filter_less', 'maximum', 'minimum', 'mode', 'average', 'sum', 'diff']\n",
      "Read in [hop], valid tokens: ['all_rows', 'v20', 'v21']\n"
     ]
    },
    {
     "name": "stdin",
     "output_type": "stream",
     "text": [
      ">  v21\n"
     ]
    },
    {
     "name": "stdout",
     "output_type": "stream",
     "text": [
      "Read in [v21], valid tokens: ['v0', 'v1', 'v2', 'v3', 'v4', 'v5', 'v6', 'v7', 'v10', 'v13', 'v14', 'v17']\n"
     ]
    },
    {
     "name": "stdin",
     "output_type": "stream",
     "text": [
      ">  v5\n"
     ]
    },
    {
     "name": "stdout",
     "output_type": "stream",
     "text": [
      "Read in [v5], valid tokens: [')']\n"
     ]
    },
    {
     "name": "stdin",
     "output_type": "stream",
     "text": [
      ">  )\n"
     ]
    },
    {
     "name": "stdout",
     "output_type": "stream",
     "text": [
      "v22 {'value': ['n/a'], 'type': 'string_list', 'is_constant': False}\n",
      "Read in [)], valid tokens: ['(', '<END>']\n",
      "Result:\n",
      "{\n",
      "  \"value\": [\n",
      "    \"n/a\"\n",
      "  ],\n",
      "  \"type\": \"string_list\",\n",
      "  \"is_constant\": false\n",
      "}\n"
     ]
    },
    {
     "ename": "KeyboardInterrupt",
     "evalue": "Interrupted by user",
     "output_type": "error",
     "traceback": [
      "\u001b[0;31m---------------------------------------------------------------------------\u001b[0m",
      "\u001b[0;31mKeyboardInterrupt\u001b[0m                         Traceback (most recent call last)",
      "\u001b[0;32m<ipython-input-16-5bc5edd90464>\u001b[0m in \u001b[0;36m<module>\u001b[0;34m\u001b[0m\n\u001b[1;32m      1\u001b[0m \u001b[0md\u001b[0m \u001b[0;34m=\u001b[0m \u001b[0mtest_dics\u001b[0m\u001b[0;34m[\u001b[0m\u001b[0;34m'nt-94'\u001b[0m\u001b[0;34m]\u001b[0m\u001b[0;34m.\u001b[0m\u001b[0mclone\u001b[0m\u001b[0;34m(\u001b[0m\u001b[0;34m)\u001b[0m\u001b[0;34m\u001b[0m\u001b[0;34m\u001b[0m\u001b[0m\n\u001b[0;32m----> 2\u001b[0;31m \u001b[0md\u001b[0m\u001b[0;34m.\u001b[0m\u001b[0minteractive\u001b[0m\u001b[0;34m(\u001b[0m\u001b[0massisted\u001b[0m\u001b[0;34m=\u001b[0m\u001b[0;32mTrue\u001b[0m\u001b[0;34m)\u001b[0m\u001b[0;34m\u001b[0m\u001b[0;34m\u001b[0m\u001b[0m\n\u001b[0m\u001b[1;32m      3\u001b[0m \u001b[0md\u001b[0m\u001b[0;34m.\u001b[0m\u001b[0mreset\u001b[0m\u001b[0;34m(\u001b[0m\u001b[0;34m)\u001b[0m\u001b[0;34m\u001b[0m\u001b[0;34m\u001b[0m\u001b[0m\n",
      "\u001b[0;32m/workspace/hsiehcc/pytorch_neural_symbolic_machines/nsm/env_factory.py\u001b[0m in \u001b[0;36minteractive\u001b[0;34m(self, assisted)\u001b[0m\n\u001b[1;32m    475\u001b[0m \u001b[0;34m\u001b[0m\u001b[0m\n\u001b[1;32m    476\u001b[0m     \u001b[0;32mdef\u001b[0m \u001b[0minteractive\u001b[0m\u001b[0;34m(\u001b[0m\u001b[0mself\u001b[0m\u001b[0;34m,\u001b[0m \u001b[0massisted\u001b[0m\u001b[0;34m=\u001b[0m\u001b[0;32mFalse\u001b[0m\u001b[0;34m)\u001b[0m\u001b[0;34m:\u001b[0m\u001b[0;34m\u001b[0m\u001b[0;34m\u001b[0m\u001b[0m\n\u001b[0;32m--> 477\u001b[0;31m         \u001b[0mself\u001b[0m\u001b[0;34m.\u001b[0m\u001b[0minterpreter\u001b[0m\u001b[0;34m.\u001b[0m\u001b[0minteractive\u001b[0m\u001b[0;34m(\u001b[0m\u001b[0massisted\u001b[0m\u001b[0;34m=\u001b[0m\u001b[0massisted\u001b[0m\u001b[0;34m)\u001b[0m \u001b[0;31m#debug\u001b[0m\u001b[0;34m\u001b[0m\u001b[0;34m\u001b[0m\u001b[0m\n\u001b[0m\u001b[1;32m    478\u001b[0m         \u001b[0mprint\u001b[0m\u001b[0;34m(\u001b[0m\u001b[0;34m'reward is: %s'\u001b[0m \u001b[0;34m%\u001b[0m \u001b[0mself\u001b[0m\u001b[0;34m.\u001b[0m\u001b[0mscore_fn\u001b[0m\u001b[0;34m(\u001b[0m\u001b[0mself\u001b[0m\u001b[0;34m.\u001b[0m\u001b[0minterpreter\u001b[0m\u001b[0;34m)\u001b[0m\u001b[0;34m)\u001b[0m\u001b[0;34m\u001b[0m\u001b[0;34m\u001b[0m\u001b[0m\n\u001b[1;32m    479\u001b[0m \u001b[0;34m\u001b[0m\u001b[0m\n",
      "\u001b[0;32m/workspace/hsiehcc/pytorch_neural_symbolic_machines/nsm/computer_factory.py\u001b[0m in \u001b[0;36minteractive\u001b[0;34m(self, prompt, assisted)\u001b[0m\n\u001b[1;32m    295\u001b[0m         \u001b[0;32mwhile\u001b[0m \u001b[0;32mTrue\u001b[0m\u001b[0;34m:\u001b[0m\u001b[0;34m\u001b[0m\u001b[0;34m\u001b[0m\u001b[0m\n\u001b[1;32m    296\u001b[0m             \u001b[0;31m# try:\u001b[0m\u001b[0;34m\u001b[0m\u001b[0;34m\u001b[0m\u001b[0;34m\u001b[0m\u001b[0m\n\u001b[0;32m--> 297\u001b[0;31m             \u001b[0mquery\u001b[0m \u001b[0;34m=\u001b[0m \u001b[0minput\u001b[0m\u001b[0;34m(\u001b[0m\u001b[0mprompt\u001b[0m\u001b[0;34m)\u001b[0m\u001b[0;34m.\u001b[0m\u001b[0mstrip\u001b[0m\u001b[0;34m(\u001b[0m\u001b[0;34m)\u001b[0m\u001b[0;34m\u001b[0m\u001b[0;34m\u001b[0m\u001b[0m\n\u001b[0m\u001b[1;32m    298\u001b[0m             \u001b[0mtokens\u001b[0m \u001b[0;34m=\u001b[0m \u001b[0mself\u001b[0m\u001b[0;34m.\u001b[0m\u001b[0mtokenize\u001b[0m\u001b[0;34m(\u001b[0m\u001b[0mquery\u001b[0m\u001b[0;34m)\u001b[0m\u001b[0;34m\u001b[0m\u001b[0;34m\u001b[0m\u001b[0m\n\u001b[1;32m    299\u001b[0m             \u001b[0;32mfor\u001b[0m \u001b[0mtk\u001b[0m \u001b[0;32min\u001b[0m \u001b[0mtokens\u001b[0m\u001b[0;34m:\u001b[0m\u001b[0;34m\u001b[0m\u001b[0;34m\u001b[0m\u001b[0m\n",
      "\u001b[0;32m/opt/conda/envs/tabert-cuda101/lib/python3.6/site-packages/ipykernel/kernelbase.py\u001b[0m in \u001b[0;36mraw_input\u001b[0;34m(self, prompt)\u001b[0m\n\u001b[1;32m    861\u001b[0m             \u001b[0mself\u001b[0m\u001b[0;34m.\u001b[0m\u001b[0m_parent_ident\u001b[0m\u001b[0;34m,\u001b[0m\u001b[0;34m\u001b[0m\u001b[0;34m\u001b[0m\u001b[0m\n\u001b[1;32m    862\u001b[0m             \u001b[0mself\u001b[0m\u001b[0;34m.\u001b[0m\u001b[0m_parent_header\u001b[0m\u001b[0;34m,\u001b[0m\u001b[0;34m\u001b[0m\u001b[0;34m\u001b[0m\u001b[0m\n\u001b[0;32m--> 863\u001b[0;31m             \u001b[0mpassword\u001b[0m\u001b[0;34m=\u001b[0m\u001b[0;32mFalse\u001b[0m\u001b[0;34m,\u001b[0m\u001b[0;34m\u001b[0m\u001b[0;34m\u001b[0m\u001b[0m\n\u001b[0m\u001b[1;32m    864\u001b[0m         )\n\u001b[1;32m    865\u001b[0m \u001b[0;34m\u001b[0m\u001b[0m\n",
      "\u001b[0;32m/opt/conda/envs/tabert-cuda101/lib/python3.6/site-packages/ipykernel/kernelbase.py\u001b[0m in \u001b[0;36m_input_request\u001b[0;34m(self, prompt, ident, parent, password)\u001b[0m\n\u001b[1;32m    902\u001b[0m             \u001b[0;32mexcept\u001b[0m \u001b[0mKeyboardInterrupt\u001b[0m\u001b[0;34m:\u001b[0m\u001b[0;34m\u001b[0m\u001b[0;34m\u001b[0m\u001b[0m\n\u001b[1;32m    903\u001b[0m                 \u001b[0;31m# re-raise KeyboardInterrupt, to truncate traceback\u001b[0m\u001b[0;34m\u001b[0m\u001b[0;34m\u001b[0m\u001b[0;34m\u001b[0m\u001b[0m\n\u001b[0;32m--> 904\u001b[0;31m                 \u001b[0;32mraise\u001b[0m \u001b[0mKeyboardInterrupt\u001b[0m\u001b[0;34m(\u001b[0m\u001b[0;34m\"Interrupted by user\"\u001b[0m\u001b[0;34m)\u001b[0m \u001b[0;32mfrom\u001b[0m \u001b[0;32mNone\u001b[0m\u001b[0;34m\u001b[0m\u001b[0;34m\u001b[0m\u001b[0m\n\u001b[0m\u001b[1;32m    905\u001b[0m             \u001b[0;32mexcept\u001b[0m \u001b[0mException\u001b[0m \u001b[0;32mas\u001b[0m \u001b[0me\u001b[0m\u001b[0;34m:\u001b[0m\u001b[0;34m\u001b[0m\u001b[0;34m\u001b[0m\u001b[0m\n\u001b[1;32m    906\u001b[0m                 \u001b[0mself\u001b[0m\u001b[0;34m.\u001b[0m\u001b[0mlog\u001b[0m\u001b[0;34m.\u001b[0m\u001b[0mwarning\u001b[0m\u001b[0;34m(\u001b[0m\u001b[0;34m\"Invalid Message:\"\u001b[0m\u001b[0;34m,\u001b[0m \u001b[0mexc_info\u001b[0m\u001b[0;34m=\u001b[0m\u001b[0;32mTrue\u001b[0m\u001b[0;34m)\u001b[0m\u001b[0;34m\u001b[0m\u001b[0;34m\u001b[0m\u001b[0m\n",
      "\u001b[0;31mKeyboardInterrupt\u001b[0m: Interrupted by user"
     ]
    }
   ],
   "source": [
    "d = test_dics['nt-94'].clone()\n",
    "d.interactive(assisted=True)\n",
    "d.reset()"
   ]
  },
  {
   "cell_type": "code",
   "execution_count": 72,
   "id": "58b189a6-c1c1-4b18-9249-abc868fadddc",
   "metadata": {},
   "outputs": [
    {
     "name": "stdout",
     "output_type": "stream",
     "text": [
      "> \u001b[0;32m/opt/conda/envs/tabert-cuda101/lib/python3.6/site-packages/ipykernel/kernelbase.py\u001b[0m(904)\u001b[0;36m_input_request\u001b[0;34m()\u001b[0m\n",
      "\u001b[0;32m    902 \u001b[0;31m            \u001b[0;32mexcept\u001b[0m \u001b[0mKeyboardInterrupt\u001b[0m\u001b[0;34m:\u001b[0m\u001b[0;34m\u001b[0m\u001b[0;34m\u001b[0m\u001b[0m\n",
      "\u001b[0m\u001b[0;32m    903 \u001b[0;31m                \u001b[0;31m# re-raise KeyboardInterrupt, to truncate traceback\u001b[0m\u001b[0;34m\u001b[0m\u001b[0;34m\u001b[0m\u001b[0;34m\u001b[0m\u001b[0m\n",
      "\u001b[0m\u001b[0;32m--> 904 \u001b[0;31m                \u001b[0;32mraise\u001b[0m \u001b[0mKeyboardInterrupt\u001b[0m\u001b[0;34m(\u001b[0m\u001b[0;34m\"Interrupted by user\"\u001b[0m\u001b[0;34m)\u001b[0m \u001b[0;32mfrom\u001b[0m \u001b[0;32mNone\u001b[0m\u001b[0;34m\u001b[0m\u001b[0;34m\u001b[0m\u001b[0m\n",
      "\u001b[0m\u001b[0;32m    905 \u001b[0;31m            \u001b[0;32mexcept\u001b[0m \u001b[0mException\u001b[0m \u001b[0;32mas\u001b[0m \u001b[0me\u001b[0m\u001b[0;34m:\u001b[0m\u001b[0;34m\u001b[0m\u001b[0;34m\u001b[0m\u001b[0m\n",
      "\u001b[0m\u001b[0;32m    906 \u001b[0;31m                \u001b[0mself\u001b[0m\u001b[0;34m.\u001b[0m\u001b[0mlog\u001b[0m\u001b[0;34m.\u001b[0m\u001b[0mwarning\u001b[0m\u001b[0;34m(\u001b[0m\u001b[0;34m\"Invalid Message:\"\u001b[0m\u001b[0;34m,\u001b[0m \u001b[0mexc_info\u001b[0m\u001b[0;34m=\u001b[0m\u001b[0;32mTrue\u001b[0m\u001b[0;34m)\u001b[0m\u001b[0;34m\u001b[0m\u001b[0;34m\u001b[0m\u001b[0m\n",
      "\u001b[0m\n"
     ]
    },
    {
     "name": "stdin",
     "output_type": "stream",
     "text": [
      "ipdb>  d.history\n"
     ]
    },
    {
     "name": "stdout",
     "output_type": "stream",
     "text": [
      "*** Newest frame\n",
      "*** Newest frame\n"
     ]
    },
    {
     "name": "stdin",
     "output_type": "stream",
     "text": [
      "ipdb>  d.interpreter.history\n"
     ]
    },
    {
     "name": "stdout",
     "output_type": "stream",
     "text": [
      "*** Newest frame\n"
     ]
    },
    {
     "name": "stdin",
     "output_type": "stream",
     "text": [
      "ipdb>  d\n"
     ]
    },
    {
     "name": "stdout",
     "output_type": "stream",
     "text": [
      "*** Newest frame\n"
     ]
    },
    {
     "name": "stdin",
     "output_type": "stream",
     "text": [
      "ipdb>  q\n"
     ]
    }
   ],
   "source": [
    "%debug"
   ]
  },
  {
   "cell_type": "code",
   "execution_count": 25,
   "id": "f6e4e087-bb73-494c-97bb-9f202ee77706",
   "metadata": {},
   "outputs": [],
   "source": [
    "import table.utils as utils\n",
    "from nsm.data_utils import load_jsonl"
   ]
  },
  {
   "cell_type": "code",
   "execution_count": 26,
   "id": "ee5fa4e7-15aa-47ed-b558-510a90e89edf",
   "metadata": {},
   "outputs": [],
   "source": [
    "tables = load_jsonl(table_file)\n",
    "table_dict = {table['name']: table for table in tables}"
   ]
  },
  {
   "cell_type": "code",
   "execution_count": 29,
   "id": "3dd381b0-f51d-46bb-8f35-9e941c2189c9",
   "metadata": {},
   "outputs": [],
   "source": [
    "from table.experiments import load_program_cache"
   ]
  },
  {
   "cell_type": "code",
   "execution_count": 32,
   "id": "e2ba666a-b4c6-4aed-a73e-7832a5449cb7",
   "metadata": {},
   "outputs": [],
   "source": [
    "run_dir = base_dir/'runs'\n",
    "work_dir = run_dir/'tabert-base-k3-run'/'log'"
   ]
  },
  {
   "cell_type": "code",
   "execution_count": 33,
   "id": "d597b4ae-d21e-4f82-b6e9-38a0f8b8cc55",
   "metadata": {},
   "outputs": [
    {
     "data": {
      "text/plain": [
       "PosixPath('/workspace/hsiehcc/pytorch_neural_symbolic_machines/runs/tabert-base-k3-run/log')"
      ]
     },
     "execution_count": 33,
     "metadata": {},
     "output_type": "execute_result"
    }
   ],
   "source": [
    "work_dir"
   ]
  },
  {
   "cell_type": "code",
   "execution_count": 35,
   "id": "0e3f61f6-238d-417c-a7d1-4d1b0875a8c8",
   "metadata": {},
   "outputs": [],
   "source": [
    "program_cache = load_program_cache(work_dir/'program_cache.iter20000.json')"
   ]
  },
  {
   "cell_type": "code",
   "execution_count": 151,
   "id": "004a842a-8a5c-46e7-b38e-fb504de0cbf2",
   "metadata": {},
   "outputs": [
    {
     "data": {
      "text/plain": [
       "['nt-11934',\n",
       " 'nt-12050',\n",
       " 'nt-3934',\n",
       " 'nt-4044',\n",
       " 'nt-4271',\n",
       " 'nt-12163',\n",
       " 'nt-4389',\n",
       " 'nt-12280',\n",
       " 'nt-4632',\n",
       " 'nt-12394']"
      ]
     },
     "execution_count": 151,
     "metadata": {},
     "output_type": "execute_result"
    }
   ],
   "source": [
    "list(program_cache.keys())[:10]"
   ]
  },
  {
   "cell_type": "code",
   "execution_count": 31,
   "id": "4105b9ea-f834-4103-82b1-c1f46273eee7",
   "metadata": {},
   "outputs": [
    {
     "data": {
      "text/plain": [
       "'all_rows'"
      ]
     },
     "execution_count": 31,
     "metadata": {},
     "output_type": "execute_result"
    }
   ],
   "source": [
    "table_kg = table_dict['t_203_197']\n",
    "executor=WikiTableExecutor(table_kg)\n",
    "score_fn = utils.wtq_score\n",
    "process_answer_fn = lambda x:x\n",
    "api = executor.get_api()\n",
    "type_hierarchy = api['type_hierarchy']\n",
    "func_dict = api['func_dict']\n",
    "constant_dict = api['constant_dict']\n",
    "interpreter = LispInterpreter(\n",
    "    type_hierarchy,\n",
    "    60, \n",
    "    3,\n",
    "    assisted=False\n",
    ")\n",
    "for v in func_dict.values():\n",
    "    interpreter.add_function(**v)\n",
    "    \n",
    "interpreter.add_constant(\n",
    "    value=table_kg,\n",
    "    type='entity_list',\n",
    "    name='all_rows')\n",
    "# interpreter.interactive()"
   ]
  },
  {
   "cell_type": "code",
   "execution_count": 78,
   "id": "a13be1a9-2b9c-4a7f-aa33-b336fcf46254",
   "metadata": {},
   "outputs": [],
   "source": [
    "import json"
   ]
  },
  {
   "cell_type": "code",
   "execution_count": 79,
   "id": "1528375d-ea27-471a-a890-3f7fa5b87329",
   "metadata": {},
   "outputs": [],
   "source": [
    "with open('../squall/data/squall.json') as f:\n",
    "    dics = json.load(f)"
   ]
  },
  {
   "cell_type": "code",
   "execution_count": 87,
   "id": "dda2e8fb-c9de-42d9-b706-189f4f607851",
   "metadata": {},
   "outputs": [
    {
     "data": {
      "text/plain": [
       "dict_keys(['nt', 'columns', 'nl', 'nl_pos', 'nl_ner', 'nl_ralign', 'nl_typebio', 'nl_typebio_col', 'nl_incolumns', 'nl_incells', 'columns_innl', 'tgt', 'tbl', 'sql', 'align'])"
      ]
     },
     "execution_count": 87,
     "metadata": {},
     "output_type": "execute_result"
    }
   ],
   "source": [
    "dics[0].keys()"
   ]
  },
  {
   "cell_type": "code",
   "execution_count": 89,
   "id": "e21bc4e7-8145-4067-8cb9-d8e08c38d45e",
   "metadata": {},
   "outputs": [],
   "source": [
    "keyd = {d['nt']:i for i,d in enumerate(dics)}"
   ]
  },
  {
   "cell_type": "code",
   "execution_count": 164,
   "id": "29f17af5-2932-48ee-b0ba-bb279e29d66b",
   "metadata": {},
   "outputs": [
    {
     "data": {
      "text/plain": [
       "'select c1 from w order by c4_minimum_number limit 1'"
      ]
     },
     "execution_count": 164,
     "metadata": {},
     "output_type": "execute_result"
    }
   ],
   "source": [
    "' '.join([t[1] for t in dics[keyd['nt-305']]['sql']])"
   ]
  },
  {
   "cell_type": "code",
   "execution_count": null,
   "id": "f7c72130-2af5-4e0a-a46d-d2f40deb480d",
   "metadata": {},
   "outputs": [],
   "source": []
  }
 ],
 "metadata": {
  "kernelspec": {
   "display_name": "tabert-cuda101",
   "language": "python",
   "name": "tabert-cuda101"
  },
  "language_info": {
   "codemirror_mode": {
    "name": "ipython",
    "version": 3
   },
   "file_extension": ".py",
   "mimetype": "text/x-python",
   "name": "python",
   "nbconvert_exporter": "python",
   "pygments_lexer": "ipython3",
   "version": "3.6.13"
  }
 },
 "nbformat": 4,
 "nbformat_minor": 5
}
